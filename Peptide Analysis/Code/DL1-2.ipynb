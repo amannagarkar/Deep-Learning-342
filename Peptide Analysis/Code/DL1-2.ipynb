{
  "nbformat": 4,
  "nbformat_minor": 0,
  "metadata": {
    "colab": {
      "name": "DL1",
      "provenance": [],
      "collapsed_sections": []
    },
    "kernelspec": {
      "name": "python3",
      "display_name": "Python 3"
    },
    "language_info": {
      "name": "python"
    }
  },
  "cells": [
    {
      "cell_type": "code",
      "execution_count": 1,
      "metadata": {
        "id": "HcuURd9BLOyO"
      },
      "outputs": [],
      "source": [
        "import numpy as np\n",
        "import matplotlib.pyplot as plt\n",
        "import pandas as pd \n",
        "from sklearn.model_selection import train_test_split\n",
        "from collections import Counter\n",
        "\n",
        "import itertools\n",
        "\n",
        "from sklearn.metrics import matthews_corrcoef"
      ]
    },
    {
      "cell_type": "markdown",
      "source": [
        "<h1>Loading Data</h1>"
      ],
      "metadata": {
        "id": "Xe20MbiyPOU6"
      }
    },
    {
      "cell_type": "code",
      "source": [
        "train_path = \"/content/drive/MyDrive/Data/Peptide-Analysis/train.dat\"\n",
        "test_path = \"/content/drive/MyDrive/Data/Peptide-Analysis/test.dat\"\n",
        "train_data = pd.read_csv(train_path)\n",
        "test_data = pd.read_csv(test_path,header=None)\n",
        "train_data.columns = ['String']\n",
        "train_data = train_data['String'].str.split(\"\\t\",n=1 , expand = True )\n",
        "train_data.columns = ['Class','Peptide']"
      ],
      "metadata": {
        "id": "toHjEPDCLlFr"
      },
      "execution_count": 2,
      "outputs": []
    },
    {
      "cell_type": "code",
      "source": [
        "test_data.head()"
      ],
      "metadata": {
        "colab": {
          "base_uri": "https://localhost:8080/",
          "height": 204
        },
        "id": "ceCeH0qs8D79",
        "outputId": "803a6a4f-e91e-4cba-e116-8c219cd41eed"
      },
      "execution_count": 3,
      "outputs": [
        {
          "output_type": "execute_result",
          "data": {
            "text/html": [
              "\n",
              "  <div id=\"df-1c88e323-d08b-4a75-82f1-974cf44a260f\">\n",
              "    <div class=\"colab-df-container\">\n",
              "      <div>\n",
              "<style scoped>\n",
              "    .dataframe tbody tr th:only-of-type {\n",
              "        vertical-align: middle;\n",
              "    }\n",
              "\n",
              "    .dataframe tbody tr th {\n",
              "        vertical-align: top;\n",
              "    }\n",
              "\n",
              "    .dataframe thead th {\n",
              "        text-align: right;\n",
              "    }\n",
              "</style>\n",
              "<table border=\"1\" class=\"dataframe\">\n",
              "  <thead>\n",
              "    <tr style=\"text-align: right;\">\n",
              "      <th></th>\n",
              "      <th>0</th>\n",
              "    </tr>\n",
              "  </thead>\n",
              "  <tbody>\n",
              "    <tr>\n",
              "      <th>0</th>\n",
              "      <td>KPTNAYEFGQVLSTISARKDEEACAHL</td>\n",
              "    </tr>\n",
              "    <tr>\n",
              "      <th>1</th>\n",
              "      <td>FLTAGDPDLETTRQALLALDREGADLIELGVPYS</td>\n",
              "    </tr>\n",
              "    <tr>\n",
              "      <th>2</th>\n",
              "      <td>RIVQRIKDFLRNLVPRTES</td>\n",
              "    </tr>\n",
              "    <tr>\n",
              "      <th>3</th>\n",
              "      <td>ERWAPARSQAYLGVL</td>\n",
              "    </tr>\n",
              "    <tr>\n",
              "      <th>4</th>\n",
              "      <td>FSFEGRRRALQAQEGIAALRDN</td>\n",
              "    </tr>\n",
              "  </tbody>\n",
              "</table>\n",
              "</div>\n",
              "      <button class=\"colab-df-convert\" onclick=\"convertToInteractive('df-1c88e323-d08b-4a75-82f1-974cf44a260f')\"\n",
              "              title=\"Convert this dataframe to an interactive table.\"\n",
              "              style=\"display:none;\">\n",
              "        \n",
              "  <svg xmlns=\"http://www.w3.org/2000/svg\" height=\"24px\"viewBox=\"0 0 24 24\"\n",
              "       width=\"24px\">\n",
              "    <path d=\"M0 0h24v24H0V0z\" fill=\"none\"/>\n",
              "    <path d=\"M18.56 5.44l.94 2.06.94-2.06 2.06-.94-2.06-.94-.94-2.06-.94 2.06-2.06.94zm-11 1L8.5 8.5l.94-2.06 2.06-.94-2.06-.94L8.5 2.5l-.94 2.06-2.06.94zm10 10l.94 2.06.94-2.06 2.06-.94-2.06-.94-.94-2.06-.94 2.06-2.06.94z\"/><path d=\"M17.41 7.96l-1.37-1.37c-.4-.4-.92-.59-1.43-.59-.52 0-1.04.2-1.43.59L10.3 9.45l-7.72 7.72c-.78.78-.78 2.05 0 2.83L4 21.41c.39.39.9.59 1.41.59.51 0 1.02-.2 1.41-.59l7.78-7.78 2.81-2.81c.8-.78.8-2.07 0-2.86zM5.41 20L4 18.59l7.72-7.72 1.47 1.35L5.41 20z\"/>\n",
              "  </svg>\n",
              "      </button>\n",
              "      \n",
              "  <style>\n",
              "    .colab-df-container {\n",
              "      display:flex;\n",
              "      flex-wrap:wrap;\n",
              "      gap: 12px;\n",
              "    }\n",
              "\n",
              "    .colab-df-convert {\n",
              "      background-color: #E8F0FE;\n",
              "      border: none;\n",
              "      border-radius: 50%;\n",
              "      cursor: pointer;\n",
              "      display: none;\n",
              "      fill: #1967D2;\n",
              "      height: 32px;\n",
              "      padding: 0 0 0 0;\n",
              "      width: 32px;\n",
              "    }\n",
              "\n",
              "    .colab-df-convert:hover {\n",
              "      background-color: #E2EBFA;\n",
              "      box-shadow: 0px 1px 2px rgba(60, 64, 67, 0.3), 0px 1px 3px 1px rgba(60, 64, 67, 0.15);\n",
              "      fill: #174EA6;\n",
              "    }\n",
              "\n",
              "    [theme=dark] .colab-df-convert {\n",
              "      background-color: #3B4455;\n",
              "      fill: #D2E3FC;\n",
              "    }\n",
              "\n",
              "    [theme=dark] .colab-df-convert:hover {\n",
              "      background-color: #434B5C;\n",
              "      box-shadow: 0px 1px 3px 1px rgba(0, 0, 0, 0.15);\n",
              "      filter: drop-shadow(0px 1px 2px rgba(0, 0, 0, 0.3));\n",
              "      fill: #FFFFFF;\n",
              "    }\n",
              "  </style>\n",
              "\n",
              "      <script>\n",
              "        const buttonEl =\n",
              "          document.querySelector('#df-1c88e323-d08b-4a75-82f1-974cf44a260f button.colab-df-convert');\n",
              "        buttonEl.style.display =\n",
              "          google.colab.kernel.accessAllowed ? 'block' : 'none';\n",
              "\n",
              "        async function convertToInteractive(key) {\n",
              "          const element = document.querySelector('#df-1c88e323-d08b-4a75-82f1-974cf44a260f');\n",
              "          const dataTable =\n",
              "            await google.colab.kernel.invokeFunction('convertToInteractive',\n",
              "                                                     [key], {});\n",
              "          if (!dataTable) return;\n",
              "\n",
              "          const docLinkHtml = 'Like what you see? Visit the ' +\n",
              "            '<a target=\"_blank\" href=https://colab.research.google.com/notebooks/data_table.ipynb>data table notebook</a>'\n",
              "            + ' to learn more about interactive tables.';\n",
              "          element.innerHTML = '';\n",
              "          dataTable['output_type'] = 'display_data';\n",
              "          await google.colab.output.renderOutput(dataTable, element);\n",
              "          const docLink = document.createElement('div');\n",
              "          docLink.innerHTML = docLinkHtml;\n",
              "          element.appendChild(docLink);\n",
              "        }\n",
              "      </script>\n",
              "    </div>\n",
              "  </div>\n",
              "  "
            ],
            "text/plain": [
              "                                    0\n",
              "0         KPTNAYEFGQVLSTISARKDEEACAHL\n",
              "1  FLTAGDPDLETTRQALLALDREGADLIELGVPYS\n",
              "2                 RIVQRIKDFLRNLVPRTES\n",
              "3                     ERWAPARSQAYLGVL\n",
              "4              FSFEGRRRALQAQEGIAALRDN"
            ]
          },
          "metadata": {},
          "execution_count": 3
        }
      ]
    },
    {
      "cell_type": "markdown",
      "source": [
        "<h1>My Bag of Words Function</h1>"
      ],
      "metadata": {
        "id": "q2W0DaS4-kpe"
      }
    },
    {
      "cell_type": "code",
      "source": [
        "dict_val = {}\n",
        "for i in range(0,len(train_data)):\n",
        "    for j in train_data['Peptide'][i]:\n",
        "        if j not in dict_val:\n",
        "            dict_val[j] = 1\n",
        "        else:\n",
        "            dict_val[j] += 1\n",
        "\n",
        "print(dict_val)"
      ],
      "metadata": {
        "colab": {
          "base_uri": "https://localhost:8080/"
        },
        "id": "mfU3iSB68VUk",
        "outputId": "67c4df39-7e1a-4ce5-ad54-f2f876f977f8"
      },
      "execution_count": 4,
      "outputs": [
        {
          "output_type": "stream",
          "name": "stdout",
          "text": [
            "{'K': 2509, 'A': 3160, 'D': 1880, 'E': 2482, 'L': 3582, 'F': 1505, 'N': 1399, 'G': 2726, 'T': 1905, 'V': 2613, 'H': 896, 'W': 503, 'Y': 1063, 'R': 2322, 'C': 575, 'S': 2312, 'M': 752, 'Q': 1359, 'I': 2337, 'P': 1648, 'X': 4}\n"
          ]
        }
      ]
    },
    {
      "cell_type": "code",
      "source": [
        "l1 = []\n",
        "for i in range(0,len(train_data)):\n",
        "    dict1 = {'A':0,'B':0,'C':0,'D':0,'E':0,'F':0,'G':0,'H':0,'I':0,'J':0,'K':0,'L':0,'M':0,'N':0,'O':0,'P':0,'Q':0,'R':0,'S':0,'T':0,'U':0,'V':0,'W':0,'X':0,'Y':0,'Z':0}\n",
        "    for j in train_data['Peptide'][i]:\n",
        "        if j not in dict1:\n",
        "            dict1[j] = 1\n",
        "        else:\n",
        "            dict1[j] += 1\n",
        "    \n",
        "    #dropping X because of low count\n",
        "    str1=[]\n",
        "    for k in dict1.values():\n",
        "\n",
        "            str1.append(int(k))\n",
        "    l1.append(np.asarray(str1))"
      ],
      "metadata": {
        "id": "ENJGP406-vWr"
      },
      "execution_count": 5,
      "outputs": []
    },
    {
      "cell_type": "code",
      "source": [
        "train_data['peptide'] = l1\n",
        "train_data.head(10)"
      ],
      "metadata": {
        "colab": {
          "base_uri": "https://localhost:8080/",
          "height": 359
        },
        "id": "cI3mpddy-v41",
        "outputId": "87ce31aa-aa56-46ea-bbb9-f67e022f0645"
      },
      "execution_count": 6,
      "outputs": [
        {
          "output_type": "execute_result",
          "data": {
            "text/html": [
              "\n",
              "  <div id=\"df-e0f123a9-2d49-4231-83a0-2c9a2596ab96\">\n",
              "    <div class=\"colab-df-container\">\n",
              "      <div>\n",
              "<style scoped>\n",
              "    .dataframe tbody tr th:only-of-type {\n",
              "        vertical-align: middle;\n",
              "    }\n",
              "\n",
              "    .dataframe tbody tr th {\n",
              "        vertical-align: top;\n",
              "    }\n",
              "\n",
              "    .dataframe thead th {\n",
              "        text-align: right;\n",
              "    }\n",
              "</style>\n",
              "<table border=\"1\" class=\"dataframe\">\n",
              "  <thead>\n",
              "    <tr style=\"text-align: right;\">\n",
              "      <th></th>\n",
              "      <th>Class</th>\n",
              "      <th>Peptide</th>\n",
              "      <th>peptide</th>\n",
              "    </tr>\n",
              "  </thead>\n",
              "  <tbody>\n",
              "    <tr>\n",
              "      <th>0</th>\n",
              "      <td>-1</td>\n",
              "      <td>KADEELFNKLFFGT</td>\n",
              "      <td>[1, 0, 0, 1, 2, 3, 1, 0, 0, 0, 2, 2, 0, 1, 0, ...</td>\n",
              "    </tr>\n",
              "    <tr>\n",
              "      <th>1</th>\n",
              "      <td>-1</td>\n",
              "      <td>FLVALHLGTAFALLWYFRKRWCALVRGFFASFGGRRNDDAHMM</td>\n",
              "      <td>[6, 0, 1, 2, 0, 6, 4, 2, 0, 0, 1, 6, 2, 1, 0, ...</td>\n",
              "    </tr>\n",
              "    <tr>\n",
              "      <th>2</th>\n",
              "      <td>-1</td>\n",
              "      <td>RDQMRARIADITGVAISRIA</td>\n",
              "      <td>[4, 0, 0, 2, 0, 0, 1, 0, 4, 0, 0, 0, 1, 0, 0, ...</td>\n",
              "    </tr>\n",
              "    <tr>\n",
              "      <th>3</th>\n",
              "      <td>-1</td>\n",
              "      <td>RKRLQLLLL</td>\n",
              "      <td>[0, 0, 0, 0, 0, 0, 0, 0, 0, 0, 1, 5, 0, 0, 0, ...</td>\n",
              "    </tr>\n",
              "    <tr>\n",
              "      <th>4</th>\n",
              "      <td>-1</td>\n",
              "      <td>PGFCVGEASPLKSPGRRELGHGNLA</td>\n",
              "      <td>[2, 0, 1, 0, 2, 1, 5, 1, 0, 0, 1, 3, 0, 1, 0, ...</td>\n",
              "    </tr>\n",
              "    <tr>\n",
              "      <th>5</th>\n",
              "      <td>-1</td>\n",
              "      <td>TPEEDTMVMKPLPPEPAP</td>\n",
              "      <td>[1, 0, 0, 1, 3, 0, 0, 0, 0, 0, 1, 1, 2, 0, 0, ...</td>\n",
              "    </tr>\n",
              "    <tr>\n",
              "      <th>6</th>\n",
              "      <td>-1</td>\n",
              "      <td>SKDMRVQR</td>\n",
              "      <td>[0, 0, 0, 1, 0, 0, 0, 0, 0, 0, 1, 0, 1, 0, 0, ...</td>\n",
              "    </tr>\n",
              "    <tr>\n",
              "      <th>7</th>\n",
              "      <td>-1</td>\n",
              "      <td>IAASIRHPLHCT</td>\n",
              "      <td>[2, 0, 1, 0, 0, 0, 0, 2, 2, 0, 0, 1, 0, 0, 0, ...</td>\n",
              "    </tr>\n",
              "    <tr>\n",
              "      <th>8</th>\n",
              "      <td>-1</td>\n",
              "      <td>HPNLNLFAAGHDGGMIVFK</td>\n",
              "      <td>[2, 0, 0, 1, 0, 2, 3, 2, 1, 0, 1, 2, 1, 2, 0, ...</td>\n",
              "    </tr>\n",
              "    <tr>\n",
              "      <th>9</th>\n",
              "      <td>1</td>\n",
              "      <td>ALWKTLLKKVLKAYSPWTNF</td>\n",
              "      <td>[2, 0, 0, 0, 0, 1, 0, 0, 0, 0, 4, 4, 0, 1, 0, ...</td>\n",
              "    </tr>\n",
              "  </tbody>\n",
              "</table>\n",
              "</div>\n",
              "      <button class=\"colab-df-convert\" onclick=\"convertToInteractive('df-e0f123a9-2d49-4231-83a0-2c9a2596ab96')\"\n",
              "              title=\"Convert this dataframe to an interactive table.\"\n",
              "              style=\"display:none;\">\n",
              "        \n",
              "  <svg xmlns=\"http://www.w3.org/2000/svg\" height=\"24px\"viewBox=\"0 0 24 24\"\n",
              "       width=\"24px\">\n",
              "    <path d=\"M0 0h24v24H0V0z\" fill=\"none\"/>\n",
              "    <path d=\"M18.56 5.44l.94 2.06.94-2.06 2.06-.94-2.06-.94-.94-2.06-.94 2.06-2.06.94zm-11 1L8.5 8.5l.94-2.06 2.06-.94-2.06-.94L8.5 2.5l-.94 2.06-2.06.94zm10 10l.94 2.06.94-2.06 2.06-.94-2.06-.94-.94-2.06-.94 2.06-2.06.94z\"/><path d=\"M17.41 7.96l-1.37-1.37c-.4-.4-.92-.59-1.43-.59-.52 0-1.04.2-1.43.59L10.3 9.45l-7.72 7.72c-.78.78-.78 2.05 0 2.83L4 21.41c.39.39.9.59 1.41.59.51 0 1.02-.2 1.41-.59l7.78-7.78 2.81-2.81c.8-.78.8-2.07 0-2.86zM5.41 20L4 18.59l7.72-7.72 1.47 1.35L5.41 20z\"/>\n",
              "  </svg>\n",
              "      </button>\n",
              "      \n",
              "  <style>\n",
              "    .colab-df-container {\n",
              "      display:flex;\n",
              "      flex-wrap:wrap;\n",
              "      gap: 12px;\n",
              "    }\n",
              "\n",
              "    .colab-df-convert {\n",
              "      background-color: #E8F0FE;\n",
              "      border: none;\n",
              "      border-radius: 50%;\n",
              "      cursor: pointer;\n",
              "      display: none;\n",
              "      fill: #1967D2;\n",
              "      height: 32px;\n",
              "      padding: 0 0 0 0;\n",
              "      width: 32px;\n",
              "    }\n",
              "\n",
              "    .colab-df-convert:hover {\n",
              "      background-color: #E2EBFA;\n",
              "      box-shadow: 0px 1px 2px rgba(60, 64, 67, 0.3), 0px 1px 3px 1px rgba(60, 64, 67, 0.15);\n",
              "      fill: #174EA6;\n",
              "    }\n",
              "\n",
              "    [theme=dark] .colab-df-convert {\n",
              "      background-color: #3B4455;\n",
              "      fill: #D2E3FC;\n",
              "    }\n",
              "\n",
              "    [theme=dark] .colab-df-convert:hover {\n",
              "      background-color: #434B5C;\n",
              "      box-shadow: 0px 1px 3px 1px rgba(0, 0, 0, 0.15);\n",
              "      filter: drop-shadow(0px 1px 2px rgba(0, 0, 0, 0.3));\n",
              "      fill: #FFFFFF;\n",
              "    }\n",
              "  </style>\n",
              "\n",
              "      <script>\n",
              "        const buttonEl =\n",
              "          document.querySelector('#df-e0f123a9-2d49-4231-83a0-2c9a2596ab96 button.colab-df-convert');\n",
              "        buttonEl.style.display =\n",
              "          google.colab.kernel.accessAllowed ? 'block' : 'none';\n",
              "\n",
              "        async function convertToInteractive(key) {\n",
              "          const element = document.querySelector('#df-e0f123a9-2d49-4231-83a0-2c9a2596ab96');\n",
              "          const dataTable =\n",
              "            await google.colab.kernel.invokeFunction('convertToInteractive',\n",
              "                                                     [key], {});\n",
              "          if (!dataTable) return;\n",
              "\n",
              "          const docLinkHtml = 'Like what you see? Visit the ' +\n",
              "            '<a target=\"_blank\" href=https://colab.research.google.com/notebooks/data_table.ipynb>data table notebook</a>'\n",
              "            + ' to learn more about interactive tables.';\n",
              "          element.innerHTML = '';\n",
              "          dataTable['output_type'] = 'display_data';\n",
              "          await google.colab.output.renderOutput(dataTable, element);\n",
              "          const docLink = document.createElement('div');\n",
              "          docLink.innerHTML = docLinkHtml;\n",
              "          element.appendChild(docLink);\n",
              "        }\n",
              "      </script>\n",
              "    </div>\n",
              "  </div>\n",
              "  "
            ],
            "text/plain": [
              "  Class  ...                                            peptide\n",
              "0    -1  ...  [1, 0, 0, 1, 2, 3, 1, 0, 0, 0, 2, 2, 0, 1, 0, ...\n",
              "1    -1  ...  [6, 0, 1, 2, 0, 6, 4, 2, 0, 0, 1, 6, 2, 1, 0, ...\n",
              "2    -1  ...  [4, 0, 0, 2, 0, 0, 1, 0, 4, 0, 0, 0, 1, 0, 0, ...\n",
              "3    -1  ...  [0, 0, 0, 0, 0, 0, 0, 0, 0, 0, 1, 5, 0, 0, 0, ...\n",
              "4    -1  ...  [2, 0, 1, 0, 2, 1, 5, 1, 0, 0, 1, 3, 0, 1, 0, ...\n",
              "5    -1  ...  [1, 0, 0, 1, 3, 0, 0, 0, 0, 0, 1, 1, 2, 0, 0, ...\n",
              "6    -1  ...  [0, 0, 0, 1, 0, 0, 0, 0, 0, 0, 1, 0, 1, 0, 0, ...\n",
              "7    -1  ...  [2, 0, 1, 0, 0, 0, 0, 2, 2, 0, 0, 1, 0, 0, 0, ...\n",
              "8    -1  ...  [2, 0, 0, 1, 0, 2, 3, 2, 1, 0, 1, 2, 1, 2, 0, ...\n",
              "9     1  ...  [2, 0, 0, 0, 0, 1, 0, 0, 0, 0, 4, 4, 0, 1, 0, ...\n",
              "\n",
              "[10 rows x 3 columns]"
            ]
          },
          "metadata": {},
          "execution_count": 6
        }
      ]
    },
    {
      "cell_type": "markdown",
      "source": [
        "<h1>Analysing Data</h1>"
      ],
      "metadata": {
        "id": "JeXviCgcEygD"
      }
    },
    {
      "cell_type": "code",
      "source": [
        "plt.hist(train_data['Class'])"
      ],
      "metadata": {
        "colab": {
          "base_uri": "https://localhost:8080/",
          "height": 333
        },
        "id": "J-RjCCUw68kz",
        "outputId": "b80545bf-73aa-488b-b9eb-2dec9cfda36d"
      },
      "execution_count": 7,
      "outputs": [
        {
          "output_type": "execute_result",
          "data": {
            "text/plain": [
              "(array([1423.,    0.,    0.,    0.,    0.,    0.,    0.,    0.,    0.,\n",
              "         142.]),\n",
              " array([0. , 0.1, 0.2, 0.3, 0.4, 0.5, 0.6, 0.7, 0.8, 0.9, 1. ]),\n",
              " <a list of 10 Patch objects>)"
            ]
          },
          "metadata": {},
          "execution_count": 7
        },
        {
          "output_type": "display_data",
          "data": {
            "image/png": "[encoded data removed]",
            "text/plain": [
              "<Figure size 432x288 with 1 Axes>"
            ]
          },
          "metadata": {
            "needs_background": "light"
          }
        }
      ]
    },
    {
      "cell_type": "code",
      "source": [
        "y = train_data['Class']\n",
        "print(Counter(y))"
      ],
      "metadata": {
        "colab": {
          "base_uri": "https://localhost:8080/"
        },
        "id": "6Eb9V3wGDRSa",
        "outputId": "10416153-17dc-4a12-a0fe-db15e1eb1b35"
      },
      "execution_count": 8,
      "outputs": [
        {
          "output_type": "stream",
          "name": "stdout",
          "text": [
            "Counter({'-1': 1423, '1': 142})\n"
          ]
        }
      ]
    },
    {
      "cell_type": "markdown",
      "source": [
        "<h1>Oversampling 'Class' == 1"
      ],
      "metadata": {
        "id": "1q9wlKdFE8JB"
      }
    },
    {
      "cell_type": "code",
      "source": [
        "from imblearn.over_sampling import RandomOverSampler\n",
        "\n",
        "ros = RandomOverSampler(random_state=42)\n",
        "\n",
        "X = train_data['peptide']\n",
        "X = list(X)\n",
        "\n",
        "y = train_data['Class']\n",
        "y = y.astype(int)\n",
        "y = np.where(y < 0, 0, y)\n",
        "\n",
        "y.reshape(-1,1)\n",
        "\n",
        "X_ros ,y_ros = ros.fit_resample(X,y)\n",
        "\n",
        "#print('Original dataset shape', Counter(y))\n",
        "#print('Resample dataset shape', Counter(y_ros))"
      ],
      "metadata": {
        "id": "zHdCf1v4_BpE"
      },
      "execution_count": 9,
      "outputs": []
    },
    {
      "cell_type": "code",
      "source": [
        "print(Counter(y_ros))"
      ],
      "metadata": {
        "colab": {
          "base_uri": "https://localhost:8080/"
        },
        "id": "7ILGf4bjDFEj",
        "outputId": "3ca302a4-b458-4ee6-c2f6-f8dd0f48aaf8"
      },
      "execution_count": 10,
      "outputs": [
        {
          "output_type": "stream",
          "name": "stdout",
          "text": [
            "Counter({0: 1423, 1: 1423})\n"
          ]
        }
      ]
    },
    {
      "cell_type": "markdown",
      "source": [
        "Data is now balanced"
      ],
      "metadata": {
        "id": "D0OaIXMAEnqE"
      }
    },
    {
      "cell_type": "markdown",
      "source": [
        "<h1>Designing Neural Network</h1>"
      ],
      "metadata": {
        "id": "e3T9CPaAFVbv"
      }
    },
    {
      "cell_type": "code",
      "source": [
        "def Sigmoid(Z):\n",
        "    return 1/(1+np.exp(-Z))\n",
        "\n",
        "def Relu(Z):\n",
        "    return np.maximum(0,Z)\n",
        "\n",
        "def dRelu2(dZ, Z):    \n",
        "    dZ[Z <= 0] = 0    \n",
        "    return dZ\n",
        "\n",
        "def dRelu(x):\n",
        "    x[x<=0] = 0\n",
        "    x[x>0] = 1\n",
        "    return x\n",
        "\n",
        "def dSigmoid(Z):\n",
        "    s = 1/(1+np.exp(-Z))\n",
        "    dZ = s * (1-s)\n",
        "    return dZ\n",
        "\n",
        "class dlnet:\n",
        "    def __init__(self, x, y):\n",
        "        self.debug = 0;\n",
        "        self.X=x\n",
        "        self.Y=y\n",
        "        self.Yh=np.zeros((1,self.Y.shape[1])) \n",
        "        self.L=2\n",
        "        self.dims = [9, 15, 1] \n",
        "        self.param = {}\n",
        "        self.ch = {}\n",
        "        self.grad = {}\n",
        "        self.loss = []\n",
        "        self.lr=0.003\n",
        "        self.sam = self.Y.shape[1]\n",
        "        self.threshold=0.5\n",
        "        \n",
        "    def nInit(self):    \n",
        "        np.random.seed(1)\n",
        "        self.param['W1'] = np.random.randn(self.dims[1], self.dims[0]) / np.sqrt(self.dims[0]) \n",
        "        self.param['b1'] = np.zeros((self.dims[1], 1))        \n",
        "        self.param['W2'] = np.random.randn(self.dims[2], self.dims[1]) / np.sqrt(self.dims[1]) \n",
        "        self.param['b2'] = np.zeros((self.dims[2], 1))                \n",
        "        return \n",
        "\n",
        "    def forward(self):    \n",
        "        Z1 = self.param['W1'].dot(self.X) + self.param['b1'] \n",
        "        A1 = Relu(Z1)\n",
        "        self.ch['Z1'],self.ch['A1']=Z1,A1\n",
        "        \n",
        "        Z2 = self.param['W2'].dot(A1) + self.param['b2']  \n",
        "        A2 = Sigmoid(Z2)\n",
        "        self.ch['Z2'],self.ch['A2']=Z2,A2\n",
        "\n",
        "        self.Yh=A2\n",
        "        loss=self.nloss(A2)\n",
        "        return self.Yh, loss\n",
        "\n",
        "    def nloss(self,Yh):\n",
        "        loss = (1./self.sam) * (-np.dot(self.Y,np.log(Yh).T) - np.dot(1-self.Y, np.log(1-Yh).T))    \n",
        "        return loss\n",
        "\n",
        "    def backward(self):\n",
        "        dLoss_Yh = - (np.divide(self.Y, self.Yh ) - np.divide(1 - self.Y, 1 - self.Yh))    \n",
        "        \n",
        "        dLoss_Z2 = dLoss_Yh * dSigmoid(self.ch['Z2'])    \n",
        "        dLoss_A1 = np.dot(self.param[\"W2\"].T,dLoss_Z2)\n",
        "        dLoss_W2 = 1./self.ch['A1'].shape[1] * np.dot(dLoss_Z2,self.ch['A1'].T)\n",
        "        dLoss_b2 = 1./self.ch['A1'].shape[1] * np.dot(dLoss_Z2, np.ones([dLoss_Z2.shape[1],1])) \n",
        "                            \n",
        "        dLoss_Z1 = dLoss_A1 * dRelu(self.ch['Z1'])        \n",
        "        dLoss_A0 = np.dot(self.param[\"W1\"].T,dLoss_Z1)\n",
        "        dLoss_W1 = 1./self.X.shape[1] * np.dot(dLoss_Z1,self.X.T)\n",
        "        dLoss_b1 = 1./self.X.shape[1] * np.dot(dLoss_Z1, np.ones([dLoss_Z1.shape[1],1]))  \n",
        "        \n",
        "        self.param[\"W1\"] = self.param[\"W1\"] - self.lr * dLoss_W1\n",
        "        self.param[\"b1\"] = self.param[\"b1\"] - self.lr * dLoss_b1\n",
        "        self.param[\"W2\"] = self.param[\"W2\"] - self.lr * dLoss_W2\n",
        "        self.param[\"b2\"] = self.param[\"b2\"] - self.lr * dLoss_b2\n",
        "        \n",
        "        return\n",
        "\n",
        "\n",
        "    def pred(self,x, y):  \n",
        "        self.X=x\n",
        "        self.Y=y\n",
        "        comp = np.zeros((1,x.shape[1]))\n",
        "        pred, loss= self.forward()    \n",
        "    \n",
        "        for i in range(0, pred.shape[1]):\n",
        "            if pred[0,i] > self.threshold: comp[0,i] = 1\n",
        "            else: comp[0,i] = 0\n",
        "    \n",
        "        print(\"Acc: \" + str(np.sum((comp == y)/x.shape[1])))\n",
        "        \n",
        "        return comp\n",
        "    \n",
        "    def gd(self,X, Y, iter = 3000):\n",
        "        np.random.seed(1)                         \n",
        "    \n",
        "        self.nInit()\n",
        "    \n",
        "        for i in range(0, iter):\n",
        "            Yh, loss=self.forward()\n",
        "            self.backward()\n",
        "        \n",
        "            if i % 100 == 0:\n",
        "                print (\"Cost after iteration %i: %f\" %(i, loss))\n",
        "                self.loss.append(loss)\n",
        "\n",
        "        plt.plot(np.squeeze(self.loss))\n",
        "        plt.ylabel('Loss')\n",
        "        plt.xlabel('Iter')\n",
        "        plt.title(\"Lr =\" + str(self.lr))\n",
        "        plt.show()\n",
        "    \n",
        "        return\n",
        "    def validgd(self,X, Y, iter = 3000):\n",
        "        np.random.seed(1)                         \n",
        "    \n",
        "        self.nInit()\n",
        "    \n",
        "        for i in range(0, iter):\n",
        "            Yh, loss=self.forward()\n",
        "            \n",
        "        \n",
        "            if i % 100 == 0:\n",
        "                print (\"Cost after iteration %i: %f\" %(i, loss))\n",
        "                self.loss.append(loss)\n",
        "\n",
        "        plt.plot(np.squeeze(self.loss),\"g\")\n",
        "        plt.ylabel('Loss')\n",
        "        plt.xlabel('Iter')\n",
        "        plt.title(\"Lr =\" + str(self.lr))\n",
        "        plt.show()\n",
        "    \n",
        "        return\n",
        "    \n",
        "\n",
        "#Defining functions for front pass and prediction without loss\n",
        "    \n",
        "    def forward_test(self):\n",
        "        Z1 = self.param['W1'].dot(self.X) + self.param['b1'] \n",
        "        A1 = Relu(Z1)\n",
        "        self.ch['Z1'],self.ch['A1']=Z1,A1\n",
        "        \n",
        "        Z2 = self.param['W2'].dot(A1) + self.param['b2']  \n",
        "        A2 = Sigmoid(Z2)\n",
        "        self.ch['Z2'],self.ch['A2']=Z2,A2\n",
        "\n",
        "        self.Yh=A2\n",
        "        return self.Yh\n",
        "\n",
        "    def predict_test(self,x):\n",
        "        self.X=x\n",
        "        comp = np.zeros((1,x.shape[1]))\n",
        "        pred = self.forward_test()    \n",
        "        for i in range(0, pred.shape[1]):\n",
        "            if pred[0,i] > self.threshold: comp[0,i] = 1\n",
        "            else: comp[0,i] = 0\n",
        "\n",
        "        return comp"
      ],
      "metadata": {
        "id": "-Po2222QDqq4"
      },
      "execution_count": 11,
      "outputs": []
    },
    {
      "cell_type": "markdown",
      "source": [
        "<h1>Splitiing Data</h1>"
      ],
      "metadata": {
        "id": "WxJ0EZOpTzQZ"
      }
    },
    {
      "cell_type": "code",
      "source": [
        "from sklearn.model_selection import train_test_split"
      ],
      "metadata": {
        "id": "L2jOjiRMW-Cl"
      },
      "execution_count": 12,
      "outputs": []
    },
    {
      "cell_type": "code",
      "source": [
        "x_train, x_test, y_train, y_test = train_test_split(X_ros, y_ros, test_size=0.33, random_state=1)"
      ],
      "metadata": {
        "id": "nJsfo64NXG8K"
      },
      "execution_count": 13,
      "outputs": []
    },
    {
      "cell_type": "code",
      "source": [
        "x_train = np.array(x_train).T\n",
        "y_train = np.array(y_train)\n",
        "y_train = np.where(y_train < 0, 0,y_train)\n",
        "y_train = y_train.reshape(-1,1)\n",
        "\n",
        "x_test = np.array(x_test).T\n",
        "y_test = np.array(y_test)\n",
        "y_test = np.where(y_test < 0, 0,y_test)\n",
        "y_test = y_test.reshape(-1,1)\n",
        "\n",
        "print(x_train.shape, y_train.shape,x_test.shape, y_test.shape)"
      ],
      "metadata": {
        "colab": {
          "base_uri": "https://localhost:8080/"
        },
        "id": "8drOYQ3dZAAW",
        "outputId": "fed0f4c6-2231-4389-a8b7-50af7be4a6d9"
      },
      "execution_count": 14,
      "outputs": [
        {
          "output_type": "stream",
          "name": "stdout",
          "text": [
            "(26, 1906) (1906, 1) (26, 940) (940, 1)\n"
          ]
        }
      ]
    },
    {
      "cell_type": "code",
      "source": [
        "nn = dlnet(x_train,y_train.T)\n",
        "nn.lr = 0.03\n",
        "nn.dims = [26, 15, 1] "
      ],
      "metadata": {
        "id": "Fz0H8SSpZgJa"
      },
      "execution_count": 15,
      "outputs": []
    },
    {
      "cell_type": "code",
      "source": [
        "nn.gd(x_train, y_train.T, iter = 600)"
      ],
      "metadata": {
        "colab": {
          "base_uri": "https://localhost:8080/",
          "height": 397
        },
        "id": "5Rf_fjJNZk6s",
        "outputId": "5c43ec64-69cd-4515-ac91-ba9d063cf573"
      },
      "execution_count": 16,
      "outputs": [
        {
          "output_type": "stream",
          "name": "stdout",
          "text": [
            "Cost after iteration 0: 0.786329\n",
            "Cost after iteration 100: 0.266225\n",
            "Cost after iteration 200: 0.213527\n",
            "Cost after iteration 300: 0.189854\n",
            "Cost after iteration 400: 0.175963\n",
            "Cost after iteration 500: 0.166106\n"
          ]
        },
        {
          "output_type": "display_data",
          "data": {
            "image/png": "[encoded data removed]",
            "text/plain": [
              "<Figure size 432x288 with 1 Axes>"
            ]
          },
          "metadata": {
            "needs_background": "light"
          }
        }
      ]
    },
    {
      "cell_type": "code",
      "source": [
        "pred_train = nn.pred(x_train, y_train.T)"
      ],
      "metadata": {
        "colab": {
          "base_uri": "https://localhost:8080/"
        },
        "id": "IJ9vLEFyZp9W",
        "outputId": "3ece2f15-9500-4538-dae5-6384d15a800d"
      },
      "execution_count": 17,
      "outputs": [
        {
          "output_type": "stream",
          "name": "stdout",
          "text": [
            "Acc: 0.9233997901364116\n"
          ]
        }
      ]
    },
    {
      "cell_type": "code",
      "source": [
        "from sklearn.metrics import confusion_matrix\n"
      ],
      "metadata": {
        "id": "LLWBv8CCg6Wb"
      },
      "execution_count": 18,
      "outputs": []
    },
    {
      "cell_type": "code",
      "source": [
        "def plotCf(a,b,t):\n",
        "    cf =confusion_matrix(a,b)\n",
        "    \n",
        "    plt.imshow(cf,cmap=plt.cm.Blues,interpolation='nearest')\n",
        "    plt.colorbar()\n",
        "    plt.title(t)\n",
        "    plt.xlabel('Predicted')\n",
        "    plt.ylabel('Actual')\n",
        "    tick_marks = np.arange(len(set(a))) # length of classes\n",
        "    class_labels = ['0','1']\n",
        "    plt.xticks(tick_marks,class_labels)\n",
        "    plt.yticks(tick_marks,class_labels)\n",
        "    thresh = cf.max() / 2.\n",
        "    for i,j in itertools.product(range(cf.shape[0]),range(cf.shape[1])):\n",
        "        plt.text(j,i,format(cf[i,j],'d'),horizontalalignment='center',color='white' if cf[i,j] >thresh else 'black')\n",
        "    plt.show();"
      ],
      "metadata": {
        "id": "2-fQFqTPhCrQ"
      },
      "execution_count": 19,
      "outputs": []
    },
    {
      "cell_type": "code",
      "source": [
        "def plot(nn, threshold=0.5):\n",
        "    nn.threshold=threshold\n",
        "\n",
        "    nn.X,nn.Y=x_train,y_train \n",
        "    target=np.around(np.squeeze(y_train), decimals=0).astype(int)\n",
        "    predicted=np.around(np.squeeze(nn.pred(x_train,y_train.T)), decimals=0).astype(int)\n",
        "    plotCf(target,predicted,'Cf Training Set')\n",
        "    print(matthews_corrcoef(target, predicted))\n",
        "plot(nn, 0.5)"
      ],
      "metadata": {
        "colab": {
          "base_uri": "https://localhost:8080/",
          "height": 329
        },
        "id": "V3tcaPt_gqFK",
        "outputId": "a1ac033f-30c9-45ac-c18e-65d964d1d426"
      },
      "execution_count": 20,
      "outputs": [
        {
          "output_type": "stream",
          "name": "stdout",
          "text": [
            "Acc: 0.9233997901364116\n"
          ]
        },
        {
          "output_type": "display_data",
          "data": {
            "image/png": "[encoded data removed]",
            "text/plain": [
              "<Figure size 432x288 with 2 Axes>"
            ]
          },
          "metadata": {
            "needs_background": "light"
          }
        },
        {
          "output_type": "stream",
          "name": "stdout",
          "text": [
            "0.8471900871127842\n"
          ]
        }
      ]
    },
    {
      "cell_type": "code",
      "source": [
        "def plot(nn, threshold=0.5):\n",
        "    nn.threshold=threshold\n",
        "\n",
        "    nn.X,nn.Y = x_test,y_test \n",
        "    target=np.around(np.squeeze(y_test), decimals=0).astype(int)\n",
        "    predicted=np.around(np.squeeze(nn.pred(x_test,y_test.T)), decimals=0).astype(int)\n",
        "    plotCf(target,predicted,'Cf Training Set')\n",
        "    print(matthews_corrcoef(target, predicted))\n",
        "plot(nn, 0.5)"
      ],
      "metadata": {
        "colab": {
          "base_uri": "https://localhost:8080/",
          "height": 329
        },
        "id": "onIKwKp3gp8e",
        "outputId": "e1495b66-e53f-4190-dfed-678bb87d7d95"
      },
      "execution_count": 21,
      "outputs": [
        {
          "output_type": "stream",
          "name": "stdout",
          "text": [
            "Acc: 0.9319148936170212\n"
          ]
        },
        {
          "output_type": "display_data",
          "data": {
            "image/png": "[encoded data removed]",
            "text/plain": [
              "<Figure size 432x288 with 2 Axes>"
            ]
          },
          "metadata": {
            "needs_background": "light"
          }
        },
        {
          "output_type": "stream",
          "name": "stdout",
          "text": [
            "0.8639032640291038\n"
          ]
        }
      ]
    },
    {
      "cell_type": "markdown",
      "source": [
        "<h1>Making Predictions</h1>"
      ],
      "metadata": {
        "id": "bYsBJ0faTpNq"
      }
    },
    {
      "cell_type": "code",
      "source": [
        "test_data.columns = ['Peptide']\n",
        "test_data.head()"
      ],
      "metadata": {
        "colab": {
          "base_uri": "https://localhost:8080/",
          "height": 204
        },
        "id": "qbpmDtvwLfU2",
        "outputId": "4e037cf3-cd8e-4db2-aecf-a8fead27f64e"
      },
      "execution_count": 22,
      "outputs": [
        {
          "output_type": "execute_result",
          "data": {
            "text/html": [
              "\n",
              "  <div id=\"df-ea247670-d49b-4784-b97b-0861c8c6bc8f\">\n",
              "    <div class=\"colab-df-container\">\n",
              "      <div>\n",
              "<style scoped>\n",
              "    .dataframe tbody tr th:only-of-type {\n",
              "        vertical-align: middle;\n",
              "    }\n",
              "\n",
              "    .dataframe tbody tr th {\n",
              "        vertical-align: top;\n",
              "    }\n",
              "\n",
              "    .dataframe thead th {\n",
              "        text-align: right;\n",
              "    }\n",
              "</style>\n",
              "<table border=\"1\" class=\"dataframe\">\n",
              "  <thead>\n",
              "    <tr style=\"text-align: right;\">\n",
              "      <th></th>\n",
              "      <th>Peptide</th>\n",
              "    </tr>\n",
              "  </thead>\n",
              "  <tbody>\n",
              "    <tr>\n",
              "      <th>0</th>\n",
              "      <td>KPTNAYEFGQVLSTISARKDEEACAHL</td>\n",
              "    </tr>\n",
              "    <tr>\n",
              "      <th>1</th>\n",
              "      <td>FLTAGDPDLETTRQALLALDREGADLIELGVPYS</td>\n",
              "    </tr>\n",
              "    <tr>\n",
              "      <th>2</th>\n",
              "      <td>RIVQRIKDFLRNLVPRTES</td>\n",
              "    </tr>\n",
              "    <tr>\n",
              "      <th>3</th>\n",
              "      <td>ERWAPARSQAYLGVL</td>\n",
              "    </tr>\n",
              "    <tr>\n",
              "      <th>4</th>\n",
              "      <td>FSFEGRRRALQAQEGIAALRDN</td>\n",
              "    </tr>\n",
              "  </tbody>\n",
              "</table>\n",
              "</div>\n",
              "      <button class=\"colab-df-convert\" onclick=\"convertToInteractive('df-ea247670-d49b-4784-b97b-0861c8c6bc8f')\"\n",
              "              title=\"Convert this dataframe to an interactive table.\"\n",
              "              style=\"display:none;\">\n",
              "        \n",
              "  <svg xmlns=\"http://www.w3.org/2000/svg\" height=\"24px\"viewBox=\"0 0 24 24\"\n",
              "       width=\"24px\">\n",
              "    <path d=\"M0 0h24v24H0V0z\" fill=\"none\"/>\n",
              "    <path d=\"M18.56 5.44l.94 2.06.94-2.06 2.06-.94-2.06-.94-.94-2.06-.94 2.06-2.06.94zm-11 1L8.5 8.5l.94-2.06 2.06-.94-2.06-.94L8.5 2.5l-.94 2.06-2.06.94zm10 10l.94 2.06.94-2.06 2.06-.94-2.06-.94-.94-2.06-.94 2.06-2.06.94z\"/><path d=\"M17.41 7.96l-1.37-1.37c-.4-.4-.92-.59-1.43-.59-.52 0-1.04.2-1.43.59L10.3 9.45l-7.72 7.72c-.78.78-.78 2.05 0 2.83L4 21.41c.39.39.9.59 1.41.59.51 0 1.02-.2 1.41-.59l7.78-7.78 2.81-2.81c.8-.78.8-2.07 0-2.86zM5.41 20L4 18.59l7.72-7.72 1.47 1.35L5.41 20z\"/>\n",
              "  </svg>\n",
              "      </button>\n",
              "      \n",
              "  <style>\n",
              "    .colab-df-container {\n",
              "      display:flex;\n",
              "      flex-wrap:wrap;\n",
              "      gap: 12px;\n",
              "    }\n",
              "\n",
              "    .colab-df-convert {\n",
              "      background-color: #E8F0FE;\n",
              "      border: none;\n",
              "      border-radius: 50%;\n",
              "      cursor: pointer;\n",
              "      display: none;\n",
              "      fill: #1967D2;\n",
              "      height: 32px;\n",
              "      padding: 0 0 0 0;\n",
              "      width: 32px;\n",
              "    }\n",
              "\n",
              "    .colab-df-convert:hover {\n",
              "      background-color: #E2EBFA;\n",
              "      box-shadow: 0px 1px 2px rgba(60, 64, 67, 0.3), 0px 1px 3px 1px rgba(60, 64, 67, 0.15);\n",
              "      fill: #174EA6;\n",
              "    }\n",
              "\n",
              "    [theme=dark] .colab-df-convert {\n",
              "      background-color: #3B4455;\n",
              "      fill: #D2E3FC;\n",
              "    }\n",
              "\n",
              "    [theme=dark] .colab-df-convert:hover {\n",
              "      background-color: #434B5C;\n",
              "      box-shadow: 0px 1px 3px 1px rgba(0, 0, 0, 0.15);\n",
              "      filter: drop-shadow(0px 1px 2px rgba(0, 0, 0, 0.3));\n",
              "      fill: #FFFFFF;\n",
              "    }\n",
              "  </style>\n",
              "\n",
              "      <script>\n",
              "        const buttonEl =\n",
              "          document.querySelector('#df-ea247670-d49b-4784-b97b-0861c8c6bc8f button.colab-df-convert');\n",
              "        buttonEl.style.display =\n",
              "          google.colab.kernel.accessAllowed ? 'block' : 'none';\n",
              "\n",
              "        async function convertToInteractive(key) {\n",
              "          const element = document.querySelector('#df-ea247670-d49b-4784-b97b-0861c8c6bc8f');\n",
              "          const dataTable =\n",
              "            await google.colab.kernel.invokeFunction('convertToInteractive',\n",
              "                                                     [key], {});\n",
              "          if (!dataTable) return;\n",
              "\n",
              "          const docLinkHtml = 'Like what you see? Visit the ' +\n",
              "            '<a target=\"_blank\" href=https://colab.research.google.com/notebooks/data_table.ipynb>data table notebook</a>'\n",
              "            + ' to learn more about interactive tables.';\n",
              "          element.innerHTML = '';\n",
              "          dataTable['output_type'] = 'display_data';\n",
              "          await google.colab.output.renderOutput(dataTable, element);\n",
              "          const docLink = document.createElement('div');\n",
              "          docLink.innerHTML = docLinkHtml;\n",
              "          element.appendChild(docLink);\n",
              "        }\n",
              "      </script>\n",
              "    </div>\n",
              "  </div>\n",
              "  "
            ],
            "text/plain": [
              "                              Peptide\n",
              "0         KPTNAYEFGQVLSTISARKDEEACAHL\n",
              "1  FLTAGDPDLETTRQALLALDREGADLIELGVPYS\n",
              "2                 RIVQRIKDFLRNLVPRTES\n",
              "3                     ERWAPARSQAYLGVL\n",
              "4              FSFEGRRRALQAQEGIAALRDN"
            ]
          },
          "metadata": {},
          "execution_count": 22
        }
      ]
    },
    {
      "cell_type": "code",
      "source": [
        "dict_val = {'A':0,'B':0,'C':0,'D':0,'E':0,'F':0,'G':0,'H':0,'I':0,'J':0,'K':0,'L':0,'M':0,'N':0,'O':0,'P':0,'Q':0,'R':0,'S':0,'T':0,'U':0,'V':0,'W':0,'X':0,'Y':0,'Z':0}\n",
        "for i in range(0,len(test_data)):\n",
        "    for j in test_data['Peptide'][i]:\n",
        "        if j not in dict_val:\n",
        "            dict_val[j] = 1\n",
        "        else:\n",
        "            dict_val[j] += 1\n",
        "\n",
        "print(dict_val)"
      ],
      "metadata": {
        "colab": {
          "base_uri": "https://localhost:8080/"
        },
        "id": "DrKxn4z5NNTT",
        "outputId": "4f93c7e1-56d3-483e-d3b2-c1673f878a5b"
      },
      "execution_count": 23,
      "outputs": [
        {
          "output_type": "stream",
          "name": "stdout",
          "text": [
            "{'A': 695, 'B': 1, 'C': 115, 'D': 481, 'E': 625, 'F': 373, 'G': 672, 'H': 235, 'I': 601, 'J': 0, 'K': 629, 'L': 913, 'M': 192, 'N': 389, 'O': 0, 'P': 409, 'Q': 358, 'R': 713, 'S': 571, 'T': 456, 'U': 0, 'V': 651, 'W': 140, 'X': 0, 'Y': 285, 'Z': 3}\n"
          ]
        }
      ]
    },
    {
      "cell_type": "code",
      "source": [
        "l3 = []\n",
        "for i in range(0,len(test_data)):\n",
        "    dict2 = {'A':0,'B':0,'C':0,'D':0,'E':0,'F':0,'G':0,'H':0,'I':0,'J':0,'K':0,'L':0,'M':0,'N':0,'O':0,'P':0,'Q':0,'R':0,'S':0,'T':0,'U':0,'V':0,'W':0,'X':0,'Y':0,'Z':0}\n",
        "    for j in test_data['Peptide'][i]:\n",
        "        if j not in dict2:\n",
        "            dict2[j] = 1\n",
        "        else:\n",
        "            dict2[j] += 1\n",
        "    str1=[]\n",
        "    for k in dict2.values():\n",
        "\n",
        "            str1.append(int(k))\n",
        "    l3.append(np.asarray(str1))"
      ],
      "metadata": {
        "id": "RJhhn6jdNNti"
      },
      "execution_count": 24,
      "outputs": []
    },
    {
      "cell_type": "code",
      "source": [
        "test_data['peptide'] = l3\n",
        "test_data.head(10)"
      ],
      "metadata": {
        "colab": {
          "base_uri": "https://localhost:8080/",
          "height": 359
        },
        "id": "BE1zZyaXNRJy",
        "outputId": "f8015d8e-07d0-4802-bc5b-3fad3432f2bb"
      },
      "execution_count": 25,
      "outputs": [
        {
          "output_type": "execute_result",
          "data": {
            "text/html": [
              "\n",
              "  <div id=\"df-eb9abfd5-6874-467c-a10c-70b516bb414c\">\n",
              "    <div class=\"colab-df-container\">\n",
              "      <div>\n",
              "<style scoped>\n",
              "    .dataframe tbody tr th:only-of-type {\n",
              "        vertical-align: middle;\n",
              "    }\n",
              "\n",
              "    .dataframe tbody tr th {\n",
              "        vertical-align: top;\n",
              "    }\n",
              "\n",
              "    .dataframe thead th {\n",
              "        text-align: right;\n",
              "    }\n",
              "</style>\n",
              "<table border=\"1\" class=\"dataframe\">\n",
              "  <thead>\n",
              "    <tr style=\"text-align: right;\">\n",
              "      <th></th>\n",
              "      <th>Peptide</th>\n",
              "      <th>peptide</th>\n",
              "    </tr>\n",
              "  </thead>\n",
              "  <tbody>\n",
              "    <tr>\n",
              "      <th>0</th>\n",
              "      <td>KPTNAYEFGQVLSTISARKDEEACAHL</td>\n",
              "      <td>[4, 0, 1, 1, 3, 1, 1, 1, 1, 0, 2, 2, 0, 1, 0, ...</td>\n",
              "    </tr>\n",
              "    <tr>\n",
              "      <th>1</th>\n",
              "      <td>FLTAGDPDLETTRQALLALDREGADLIELGVPYS</td>\n",
              "      <td>[4, 0, 0, 4, 3, 1, 3, 0, 1, 0, 0, 7, 0, 0, 0, ...</td>\n",
              "    </tr>\n",
              "    <tr>\n",
              "      <th>2</th>\n",
              "      <td>RIVQRIKDFLRNLVPRTES</td>\n",
              "      <td>[0, 0, 0, 1, 1, 1, 0, 0, 2, 0, 1, 2, 0, 1, 0, ...</td>\n",
              "    </tr>\n",
              "    <tr>\n",
              "      <th>3</th>\n",
              "      <td>ERWAPARSQAYLGVL</td>\n",
              "      <td>[3, 0, 0, 0, 1, 0, 1, 0, 0, 0, 0, 2, 0, 0, 0, ...</td>\n",
              "    </tr>\n",
              "    <tr>\n",
              "      <th>4</th>\n",
              "      <td>FSFEGRRRALQAQEGIAALRDN</td>\n",
              "      <td>[4, 0, 0, 1, 2, 2, 2, 0, 1, 0, 0, 2, 0, 1, 0, ...</td>\n",
              "    </tr>\n",
              "    <tr>\n",
              "      <th>5</th>\n",
              "      <td>LKAFDHRILDQSTG</td>\n",
              "      <td>[1, 0, 0, 2, 0, 1, 1, 1, 1, 0, 1, 2, 0, 0, 0, ...</td>\n",
              "    </tr>\n",
              "    <tr>\n",
              "      <th>6</th>\n",
              "      <td>GRFKRFRKKFKKLFKKLSPVIPLLHL</td>\n",
              "      <td>[0, 0, 0, 0, 0, 4, 1, 1, 1, 0, 7, 5, 0, 0, 0, ...</td>\n",
              "    </tr>\n",
              "    <tr>\n",
              "      <th>7</th>\n",
              "      <td>LLANYISGIIEPIQSRVVMIRFNPLPKEAVISRLRYIAENEG</td>\n",
              "      <td>[3, 0, 0, 0, 4, 1, 2, 0, 7, 0, 1, 4, 1, 3, 0, ...</td>\n",
              "    </tr>\n",
              "    <tr>\n",
              "      <th>8</th>\n",
              "      <td>SLVRTAL</td>\n",
              "      <td>[1, 0, 0, 0, 0, 0, 0, 0, 0, 0, 0, 2, 0, 0, 0, ...</td>\n",
              "    </tr>\n",
              "    <tr>\n",
              "      <th>9</th>\n",
              "      <td>TFFRLFNRSGGGFKKFWKWFRRF</td>\n",
              "      <td>[0, 0, 0, 0, 0, 7, 3, 0, 0, 0, 3, 1, 0, 1, 0, ...</td>\n",
              "    </tr>\n",
              "  </tbody>\n",
              "</table>\n",
              "</div>\n",
              "      <button class=\"colab-df-convert\" onclick=\"convertToInteractive('df-eb9abfd5-6874-467c-a10c-70b516bb414c')\"\n",
              "              title=\"Convert this dataframe to an interactive table.\"\n",
              "              style=\"display:none;\">\n",
              "        \n",
              "  <svg xmlns=\"http://www.w3.org/2000/svg\" height=\"24px\"viewBox=\"0 0 24 24\"\n",
              "       width=\"24px\">\n",
              "    <path d=\"M0 0h24v24H0V0z\" fill=\"none\"/>\n",
              "    <path d=\"M18.56 5.44l.94 2.06.94-2.06 2.06-.94-2.06-.94-.94-2.06-.94 2.06-2.06.94zm-11 1L8.5 8.5l.94-2.06 2.06-.94-2.06-.94L8.5 2.5l-.94 2.06-2.06.94zm10 10l.94 2.06.94-2.06 2.06-.94-2.06-.94-.94-2.06-.94 2.06-2.06.94z\"/><path d=\"M17.41 7.96l-1.37-1.37c-.4-.4-.92-.59-1.43-.59-.52 0-1.04.2-1.43.59L10.3 9.45l-7.72 7.72c-.78.78-.78 2.05 0 2.83L4 21.41c.39.39.9.59 1.41.59.51 0 1.02-.2 1.41-.59l7.78-7.78 2.81-2.81c.8-.78.8-2.07 0-2.86zM5.41 20L4 18.59l7.72-7.72 1.47 1.35L5.41 20z\"/>\n",
              "  </svg>\n",
              "      </button>\n",
              "      \n",
              "  <style>\n",
              "    .colab-df-container {\n",
              "      display:flex;\n",
              "      flex-wrap:wrap;\n",
              "      gap: 12px;\n",
              "    }\n",
              "\n",
              "    .colab-df-convert {\n",
              "      background-color: #E8F0FE;\n",
              "      border: none;\n",
              "      border-radius: 50%;\n",
              "      cursor: pointer;\n",
              "      display: none;\n",
              "      fill: #1967D2;\n",
              "      height: 32px;\n",
              "      padding: 0 0 0 0;\n",
              "      width: 32px;\n",
              "    }\n",
              "\n",
              "    .colab-df-convert:hover {\n",
              "      background-color: #E2EBFA;\n",
              "      box-shadow: 0px 1px 2px rgba(60, 64, 67, 0.3), 0px 1px 3px 1px rgba(60, 64, 67, 0.15);\n",
              "      fill: #174EA6;\n",
              "    }\n",
              "\n",
              "    [theme=dark] .colab-df-convert {\n",
              "      background-color: #3B4455;\n",
              "      fill: #D2E3FC;\n",
              "    }\n",
              "\n",
              "    [theme=dark] .colab-df-convert:hover {\n",
              "      background-color: #434B5C;\n",
              "      box-shadow: 0px 1px 3px 1px rgba(0, 0, 0, 0.15);\n",
              "      filter: drop-shadow(0px 1px 2px rgba(0, 0, 0, 0.3));\n",
              "      fill: #FFFFFF;\n",
              "    }\n",
              "  </style>\n",
              "\n",
              "      <script>\n",
              "        const buttonEl =\n",
              "          document.querySelector('#df-eb9abfd5-6874-467c-a10c-70b516bb414c button.colab-df-convert');\n",
              "        buttonEl.style.display =\n",
              "          google.colab.kernel.accessAllowed ? 'block' : 'none';\n",
              "\n",
              "        async function convertToInteractive(key) {\n",
              "          const element = document.querySelector('#df-eb9abfd5-6874-467c-a10c-70b516bb414c');\n",
              "          const dataTable =\n",
              "            await google.colab.kernel.invokeFunction('convertToInteractive',\n",
              "                                                     [key], {});\n",
              "          if (!dataTable) return;\n",
              "\n",
              "          const docLinkHtml = 'Like what you see? Visit the ' +\n",
              "            '<a target=\"_blank\" href=https://colab.research.google.com/notebooks/data_table.ipynb>data table notebook</a>'\n",
              "            + ' to learn more about interactive tables.';\n",
              "          element.innerHTML = '';\n",
              "          dataTable['output_type'] = 'display_data';\n",
              "          await google.colab.output.renderOutput(dataTable, element);\n",
              "          const docLink = document.createElement('div');\n",
              "          docLink.innerHTML = docLinkHtml;\n",
              "          element.appendChild(docLink);\n",
              "        }\n",
              "      </script>\n",
              "    </div>\n",
              "  </div>\n",
              "  "
            ],
            "text/plain": [
              "                                      Peptide                                            peptide\n",
              "0                 KPTNAYEFGQVLSTISARKDEEACAHL  [4, 0, 1, 1, 3, 1, 1, 1, 1, 0, 2, 2, 0, 1, 0, ...\n",
              "1          FLTAGDPDLETTRQALLALDREGADLIELGVPYS  [4, 0, 0, 4, 3, 1, 3, 0, 1, 0, 0, 7, 0, 0, 0, ...\n",
              "2                         RIVQRIKDFLRNLVPRTES  [0, 0, 0, 1, 1, 1, 0, 0, 2, 0, 1, 2, 0, 1, 0, ...\n",
              "3                             ERWAPARSQAYLGVL  [3, 0, 0, 0, 1, 0, 1, 0, 0, 0, 0, 2, 0, 0, 0, ...\n",
              "4                      FSFEGRRRALQAQEGIAALRDN  [4, 0, 0, 1, 2, 2, 2, 0, 1, 0, 0, 2, 0, 1, 0, ...\n",
              "5                              LKAFDHRILDQSTG  [1, 0, 0, 2, 0, 1, 1, 1, 1, 0, 1, 2, 0, 0, 0, ...\n",
              "6                  GRFKRFRKKFKKLFKKLSPVIPLLHL  [0, 0, 0, 0, 0, 4, 1, 1, 1, 0, 7, 5, 0, 0, 0, ...\n",
              "7  LLANYISGIIEPIQSRVVMIRFNPLPKEAVISRLRYIAENEG  [3, 0, 0, 0, 4, 1, 2, 0, 7, 0, 1, 4, 1, 3, 0, ...\n",
              "8                                     SLVRTAL  [1, 0, 0, 0, 0, 0, 0, 0, 0, 0, 0, 2, 0, 0, 0, ...\n",
              "9                     TFFRLFNRSGGGFKKFWKWFRRF  [0, 0, 0, 0, 0, 7, 3, 0, 0, 0, 3, 1, 0, 1, 0, ..."
            ]
          },
          "metadata": {},
          "execution_count": 25
        }
      ]
    },
    {
      "cell_type": "code",
      "source": [
        "test_data.shape"
      ],
      "metadata": {
        "colab": {
          "base_uri": "https://localhost:8080/"
        },
        "id": "usleHdA_7xv5",
        "outputId": "d69c6d21-da45-4868-80d8-8ea05abaab95"
      },
      "execution_count": 26,
      "outputs": [
        {
          "output_type": "execute_result",
          "data": {
            "text/plain": [
              "(392, 2)"
            ]
          },
          "metadata": {},
          "execution_count": 26
        }
      ]
    },
    {
      "cell_type": "code",
      "source": [
        "test_vals = test_data['peptide']\n",
        "test_vals = np.array(test_vals).T\n",
        "test_vals.shape"
      ],
      "metadata": {
        "colab": {
          "base_uri": "https://localhost:8080/"
        },
        "id": "AVrpBgLCNU5w",
        "outputId": "bcb82142-4b85-4053-e86d-5edcab2a60e2"
      },
      "execution_count": 27,
      "outputs": [
        {
          "output_type": "execute_result",
          "data": {
            "text/plain": [
              "(392,)"
            ]
          },
          "metadata": {},
          "execution_count": 27
        }
      ]
    },
    {
      "cell_type": "code",
      "source": [
        "a=[]\n",
        "x = pd.DataFrame()\n",
        "for i in test_vals:\n",
        "    \n",
        "    x= pd.concat([x,pd.DataFrame(i).T])\n"
      ],
      "metadata": {
        "id": "PntAsChiplCl"
      },
      "execution_count": 28,
      "outputs": []
    },
    {
      "cell_type": "code",
      "source": [
        "x.values"
      ],
      "metadata": {
        "colab": {
          "base_uri": "https://localhost:8080/"
        },
        "id": "Aq1Q7JuIuovb",
        "outputId": "2103784f-7059-4b20-cf69-a8d34ca35f98"
      },
      "execution_count": 29,
      "outputs": [
        {
          "output_type": "execute_result",
          "data": {
            "text/plain": [
              "array([[4, 0, 1, ..., 0, 1, 0],\n",
              "       [4, 0, 0, ..., 0, 1, 0],\n",
              "       [0, 0, 0, ..., 0, 0, 0],\n",
              "       ...,\n",
              "       [7, 0, 1, ..., 0, 0, 0],\n",
              "       [2, 0, 0, ..., 0, 1, 0],\n",
              "       [4, 0, 1, ..., 0, 0, 0]])"
            ]
          },
          "metadata": {},
          "execution_count": 29
        }
      ]
    },
    {
      "cell_type": "code",
      "source": [
        "yh = nn.predict_test(x.values.T)[0]"
      ],
      "metadata": {
        "id": "X517GQXeu4Tc"
      },
      "execution_count": 30,
      "outputs": []
    },
    {
      "cell_type": "code",
      "source": [
        "yh = np.where(yh == 0, -1, yh)\n",
        "with open('/content/drive/MyDrive/Colab Notebooks/result1.txt','w+') as file:\n",
        "    for i in yh:\n",
        "        file.write(\"%s\\n\" % int(i))"
      ],
      "metadata": {
        "id": "D1UZOytk2Wjm"
      },
      "execution_count": 31,
      "outputs": []
    },
    {
      "cell_type": "code",
      "source": [
        "yh.shape"
      ],
      "metadata": {
        "id": "4RTjcPWw6nzj",
        "colab": {
          "base_uri": "https://localhost:8080/"
        },
        "outputId": "ae7dee51-4e27-43f3-dc75-1bad94dd7392"
      },
      "execution_count": 33,
      "outputs": [
        {
          "output_type": "execute_result",
          "data": {
            "text/plain": [
              "(392,)"
            ]
          },
          "metadata": {},
          "execution_count": 33
        }
      ]
    },
    {
      "cell_type": "code",
      "source": [
        ""
      ],
      "metadata": {
        "id": "ooebHZAh9rQB"
      },
      "execution_count": null,
      "outputs": []
    }
  ]
}
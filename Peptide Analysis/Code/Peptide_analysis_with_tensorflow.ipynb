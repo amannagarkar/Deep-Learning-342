{
  "nbformat": 4,
  "nbformat_minor": 0,
  "metadata": {
    "colab": {
      "name": "Peptide analysis with tensorflow.ipynb",
      "provenance": []
    },
    "kernelspec": {
      "name": "python3",
      "display_name": "Python 3"
    },
    "language_info": {
      "name": "python"
    }
  },
  "cells": [
    {
      "cell_type": "code",
      "source": [
        "from google.colab import drive\n",
        "drive.mount('/content/drive')"
      ],
      "metadata": {
        "colab": {
          "base_uri": "https://localhost:8080/"
        },
        "id": "5hg8Wh11dleY",
        "outputId": "19a53ef5-079e-4cd5-a481-4223a0de87a0"
      },
      "execution_count": null,
      "outputs": [
        {
          "output_type": "stream",
          "name": "stdout",
          "text": [
            "Drive already mounted at /content/drive; to attempt to forcibly remount, call drive.mount(\"/content/drive\", force_remount=True).\n"
          ]
        }
      ]
    },
    {
      "cell_type": "code",
      "execution_count": null,
      "metadata": {
        "id": "xF0Yki642dn6"
      },
      "outputs": [],
      "source": [
        "import pandas as pd\n",
        "import numpy as np\n",
        "import tensorflow as tf\n",
        "from sklearn.model_selection import train_test_split\n",
        "\n",
        "import matplotlib.pyplot as plt\n",
        "%matplotlib inline"
      ]
    },
    {
      "cell_type": "code",
      "source": [
        "train_path = \"/content/drive/MyDrive/Data/Peptide-Analysis/train.dat\"\n",
        "test_path = \"/content/drive/MyDrive/Data/Peptide-Analysis/test.dat\"\n",
        "train_data = pd.read_csv(train_path)\n",
        "test_data = pd.read_csv(test_path)"
      ],
      "metadata": {
        "id": "ed7liPuW3BEN"
      },
      "execution_count": null,
      "outputs": []
    },
    {
      "cell_type": "code",
      "source": [
        "train_data.columns = ['String']\n",
        "train_data = train_data['String'].str.split(\"\\t\",n=1 , expand = True )\n",
        "train_data.columns = ['Class','Peptide']\n",
        "train_data.head()"
      ],
      "metadata": {
        "id": "FS7rjiryFjGb",
        "colab": {
          "base_uri": "https://localhost:8080/",
          "height": 204
        },
        "outputId": "d83b7200-8f2d-4865-df8c-6bbd8c9328e7"
      },
      "execution_count": null,
      "outputs": [
        {
          "output_type": "execute_result",
          "data": {
            "text/html": [
              "\n",
              "  <div id=\"df-43662722-6fe4-4399-af9b-e86110233d6a\">\n",
              "    <div class=\"colab-df-container\">\n",
              "      <div>\n",
              "<style scoped>\n",
              "    .dataframe tbody tr th:only-of-type {\n",
              "        vertical-align: middle;\n",
              "    }\n",
              "\n",
              "    .dataframe tbody tr th {\n",
              "        vertical-align: top;\n",
              "    }\n",
              "\n",
              "    .dataframe thead th {\n",
              "        text-align: right;\n",
              "    }\n",
              "</style>\n",
              "<table border=\"1\" class=\"dataframe\">\n",
              "  <thead>\n",
              "    <tr style=\"text-align: right;\">\n",
              "      <th></th>\n",
              "      <th>Class</th>\n",
              "      <th>Peptide</th>\n",
              "    </tr>\n",
              "  </thead>\n",
              "  <tbody>\n",
              "    <tr>\n",
              "      <th>0</th>\n",
              "      <td>-1</td>\n",
              "      <td>KADEELFNKLFFGT</td>\n",
              "    </tr>\n",
              "    <tr>\n",
              "      <th>1</th>\n",
              "      <td>-1</td>\n",
              "      <td>FLVALHLGTAFALLWYFRKRWCALVRGFFASFGGRRNDDAHMM</td>\n",
              "    </tr>\n",
              "    <tr>\n",
              "      <th>2</th>\n",
              "      <td>-1</td>\n",
              "      <td>RDQMRARIADITGVAISRIA</td>\n",
              "    </tr>\n",
              "    <tr>\n",
              "      <th>3</th>\n",
              "      <td>-1</td>\n",
              "      <td>RKRLQLLLL</td>\n",
              "    </tr>\n",
              "    <tr>\n",
              "      <th>4</th>\n",
              "      <td>-1</td>\n",
              "      <td>PGFCVGEASPLKSPGRRELGHGNLA</td>\n",
              "    </tr>\n",
              "  </tbody>\n",
              "</table>\n",
              "</div>\n",
              "      <button class=\"colab-df-convert\" onclick=\"convertToInteractive('df-43662722-6fe4-4399-af9b-e86110233d6a')\"\n",
              "              title=\"Convert this dataframe to an interactive table.\"\n",
              "              style=\"display:none;\">\n",
              "        \n",
              "  <svg xmlns=\"http://www.w3.org/2000/svg\" height=\"24px\"viewBox=\"0 0 24 24\"\n",
              "       width=\"24px\">\n",
              "    <path d=\"M0 0h24v24H0V0z\" fill=\"none\"/>\n",
              "    <path d=\"M18.56 5.44l.94 2.06.94-2.06 2.06-.94-2.06-.94-.94-2.06-.94 2.06-2.06.94zm-11 1L8.5 8.5l.94-2.06 2.06-.94-2.06-.94L8.5 2.5l-.94 2.06-2.06.94zm10 10l.94 2.06.94-2.06 2.06-.94-2.06-.94-.94-2.06-.94 2.06-2.06.94z\"/><path d=\"M17.41 7.96l-1.37-1.37c-.4-.4-.92-.59-1.43-.59-.52 0-1.04.2-1.43.59L10.3 9.45l-7.72 7.72c-.78.78-.78 2.05 0 2.83L4 21.41c.39.39.9.59 1.41.59.51 0 1.02-.2 1.41-.59l7.78-7.78 2.81-2.81c.8-.78.8-2.07 0-2.86zM5.41 20L4 18.59l7.72-7.72 1.47 1.35L5.41 20z\"/>\n",
              "  </svg>\n",
              "      </button>\n",
              "      \n",
              "  <style>\n",
              "    .colab-df-container {\n",
              "      display:flex;\n",
              "      flex-wrap:wrap;\n",
              "      gap: 12px;\n",
              "    }\n",
              "\n",
              "    .colab-df-convert {\n",
              "      background-color: #E8F0FE;\n",
              "      border: none;\n",
              "      border-radius: 50%;\n",
              "      cursor: pointer;\n",
              "      display: none;\n",
              "      fill: #1967D2;\n",
              "      height: 32px;\n",
              "      padding: 0 0 0 0;\n",
              "      width: 32px;\n",
              "    }\n",
              "\n",
              "    .colab-df-convert:hover {\n",
              "      background-color: #E2EBFA;\n",
              "      box-shadow: 0px 1px 2px rgba(60, 64, 67, 0.3), 0px 1px 3px 1px rgba(60, 64, 67, 0.15);\n",
              "      fill: #174EA6;\n",
              "    }\n",
              "\n",
              "    [theme=dark] .colab-df-convert {\n",
              "      background-color: #3B4455;\n",
              "      fill: #D2E3FC;\n",
              "    }\n",
              "\n",
              "    [theme=dark] .colab-df-convert:hover {\n",
              "      background-color: #434B5C;\n",
              "      box-shadow: 0px 1px 3px 1px rgba(0, 0, 0, 0.15);\n",
              "      filter: drop-shadow(0px 1px 2px rgba(0, 0, 0, 0.3));\n",
              "      fill: #FFFFFF;\n",
              "    }\n",
              "  </style>\n",
              "\n",
              "      <script>\n",
              "        const buttonEl =\n",
              "          document.querySelector('#df-43662722-6fe4-4399-af9b-e86110233d6a button.colab-df-convert');\n",
              "        buttonEl.style.display =\n",
              "          google.colab.kernel.accessAllowed ? 'block' : 'none';\n",
              "\n",
              "        async function convertToInteractive(key) {\n",
              "          const element = document.querySelector('#df-43662722-6fe4-4399-af9b-e86110233d6a');\n",
              "          const dataTable =\n",
              "            await google.colab.kernel.invokeFunction('convertToInteractive',\n",
              "                                                     [key], {});\n",
              "          if (!dataTable) return;\n",
              "\n",
              "          const docLinkHtml = 'Like what you see? Visit the ' +\n",
              "            '<a target=\"_blank\" href=https://colab.research.google.com/notebooks/data_table.ipynb>data table notebook</a>'\n",
              "            + ' to learn more about interactive tables.';\n",
              "          element.innerHTML = '';\n",
              "          dataTable['output_type'] = 'display_data';\n",
              "          await google.colab.output.renderOutput(dataTable, element);\n",
              "          const docLink = document.createElement('div');\n",
              "          docLink.innerHTML = docLinkHtml;\n",
              "          element.appendChild(docLink);\n",
              "        }\n",
              "      </script>\n",
              "    </div>\n",
              "  </div>\n",
              "  "
            ],
            "text/plain": [
              "  Class                                      Peptide\n",
              "0    -1                               KADEELFNKLFFGT\n",
              "1    -1  FLVALHLGTAFALLWYFRKRWCALVRGFFASFGGRRNDDAHMM\n",
              "2    -1                         RDQMRARIADITGVAISRIA\n",
              "3    -1                                    RKRLQLLLL\n",
              "4    -1                    PGFCVGEASPLKSPGRRELGHGNLA"
            ]
          },
          "metadata": {},
          "execution_count": 23
        }
      ]
    },
    {
      "cell_type": "code",
      "source": [
        "dict_val = {}\n",
        "for i in range(0,len(train_data)):\n",
        "    for j in train_data['Peptide'][i]:\n",
        "        if j not in dict_val:\n",
        "            dict_val[j] = 1\n",
        "        else:\n",
        "            dict_val[j] += 1\n",
        "\n",
        "print(dict_val)"
      ],
      "metadata": {
        "id": "w-k9Ssc9WF-b",
        "colab": {
          "base_uri": "https://localhost:8080/"
        },
        "outputId": "1bd8f306-fb2a-4afb-d30c-76371e3595a4"
      },
      "execution_count": null,
      "outputs": [
        {
          "output_type": "stream",
          "name": "stdout",
          "text": [
            "{'K': 2509, 'A': 3160, 'D': 1880, 'E': 2482, 'L': 3582, 'F': 1505, 'N': 1399, 'G': 2726, 'T': 1905, 'V': 2613, 'H': 896, 'W': 503, 'Y': 1063, 'R': 2322, 'C': 575, 'S': 2312, 'M': 752, 'Q': 1359, 'I': 2337, 'P': 1648, 'X': 4}\n"
          ]
        }
      ]
    },
    {
      "cell_type": "code",
      "source": [
        "l1 = []\n",
        "for i in range(0,len(train_data)):\n",
        "    dict1 = {'A':0,'B':0,'C':0,'D':0,'E':0,'F':0,'G':0,'H':0,'I':0,'J':0,'K':0,'L':0,'M':0,'N':0,'O':0,'P':0,'Q':0,'R':0,'S':0,'T':0,'U':0,'V':0,'W':0,'X':0,'Y':0,'Z':0}\n",
        "    for j in train_data['Peptide'][i]:\n",
        "        if j not in dict1:\n",
        "            dict1[j] = 1\n",
        "        else:\n",
        "            dict1[j] += 1\n",
        "    \n",
        "    str1=[]\n",
        "    for k in dict1.values():\n",
        "\n",
        "            str1.append(int(k))\n",
        "    l1.append(np.asarray(str1))"
      ],
      "metadata": {
        "id": "7s2JzS2UWLVg"
      },
      "execution_count": null,
      "outputs": []
    },
    {
      "cell_type": "code",
      "source": [
        "train_data['peptide'] = l1\n",
        "train_data.head(10)"
      ],
      "metadata": {
        "id": "QWCtIKi2WNuK",
        "colab": {
          "base_uri": "https://localhost:8080/",
          "height": 359
        },
        "outputId": "71696d6c-45be-4b05-c575-5eba1cde60a6"
      },
      "execution_count": null,
      "outputs": [
        {
          "output_type": "execute_result",
          "data": {
            "text/html": [
              "\n",
              "  <div id=\"df-363c59bc-6250-460b-852c-7cb3850548c3\">\n",
              "    <div class=\"colab-df-container\">\n",
              "      <div>\n",
              "<style scoped>\n",
              "    .dataframe tbody tr th:only-of-type {\n",
              "        vertical-align: middle;\n",
              "    }\n",
              "\n",
              "    .dataframe tbody tr th {\n",
              "        vertical-align: top;\n",
              "    }\n",
              "\n",
              "    .dataframe thead th {\n",
              "        text-align: right;\n",
              "    }\n",
              "</style>\n",
              "<table border=\"1\" class=\"dataframe\">\n",
              "  <thead>\n",
              "    <tr style=\"text-align: right;\">\n",
              "      <th></th>\n",
              "      <th>Class</th>\n",
              "      <th>Peptide</th>\n",
              "      <th>peptide</th>\n",
              "    </tr>\n",
              "  </thead>\n",
              "  <tbody>\n",
              "    <tr>\n",
              "      <th>0</th>\n",
              "      <td>-1</td>\n",
              "      <td>KADEELFNKLFFGT</td>\n",
              "      <td>[1, 0, 0, 1, 2, 3, 1, 0, 0, 0, 2, 2, 0, 1, 0, ...</td>\n",
              "    </tr>\n",
              "    <tr>\n",
              "      <th>1</th>\n",
              "      <td>-1</td>\n",
              "      <td>FLVALHLGTAFALLWYFRKRWCALVRGFFASFGGRRNDDAHMM</td>\n",
              "      <td>[6, 0, 1, 2, 0, 6, 4, 2, 0, 0, 1, 6, 2, 1, 0, ...</td>\n",
              "    </tr>\n",
              "    <tr>\n",
              "      <th>2</th>\n",
              "      <td>-1</td>\n",
              "      <td>RDQMRARIADITGVAISRIA</td>\n",
              "      <td>[4, 0, 0, 2, 0, 0, 1, 0, 4, 0, 0, 0, 1, 0, 0, ...</td>\n",
              "    </tr>\n",
              "    <tr>\n",
              "      <th>3</th>\n",
              "      <td>-1</td>\n",
              "      <td>RKRLQLLLL</td>\n",
              "      <td>[0, 0, 0, 0, 0, 0, 0, 0, 0, 0, 1, 5, 0, 0, 0, ...</td>\n",
              "    </tr>\n",
              "    <tr>\n",
              "      <th>4</th>\n",
              "      <td>-1</td>\n",
              "      <td>PGFCVGEASPLKSPGRRELGHGNLA</td>\n",
              "      <td>[2, 0, 1, 0, 2, 1, 5, 1, 0, 0, 1, 3, 0, 1, 0, ...</td>\n",
              "    </tr>\n",
              "    <tr>\n",
              "      <th>5</th>\n",
              "      <td>-1</td>\n",
              "      <td>TPEEDTMVMKPLPPEPAP</td>\n",
              "      <td>[1, 0, 0, 1, 3, 0, 0, 0, 0, 0, 1, 1, 2, 0, 0, ...</td>\n",
              "    </tr>\n",
              "    <tr>\n",
              "      <th>6</th>\n",
              "      <td>-1</td>\n",
              "      <td>SKDMRVQR</td>\n",
              "      <td>[0, 0, 0, 1, 0, 0, 0, 0, 0, 0, 1, 0, 1, 0, 0, ...</td>\n",
              "    </tr>\n",
              "    <tr>\n",
              "      <th>7</th>\n",
              "      <td>-1</td>\n",
              "      <td>IAASIRHPLHCT</td>\n",
              "      <td>[2, 0, 1, 0, 0, 0, 0, 2, 2, 0, 0, 1, 0, 0, 0, ...</td>\n",
              "    </tr>\n",
              "    <tr>\n",
              "      <th>8</th>\n",
              "      <td>-1</td>\n",
              "      <td>HPNLNLFAAGHDGGMIVFK</td>\n",
              "      <td>[2, 0, 0, 1, 0, 2, 3, 2, 1, 0, 1, 2, 1, 2, 0, ...</td>\n",
              "    </tr>\n",
              "    <tr>\n",
              "      <th>9</th>\n",
              "      <td>1</td>\n",
              "      <td>ALWKTLLKKVLKAYSPWTNF</td>\n",
              "      <td>[2, 0, 0, 0, 0, 1, 0, 0, 0, 0, 4, 4, 0, 1, 0, ...</td>\n",
              "    </tr>\n",
              "  </tbody>\n",
              "</table>\n",
              "</div>\n",
              "      <button class=\"colab-df-convert\" onclick=\"convertToInteractive('df-363c59bc-6250-460b-852c-7cb3850548c3')\"\n",
              "              title=\"Convert this dataframe to an interactive table.\"\n",
              "              style=\"display:none;\">\n",
              "        \n",
              "  <svg xmlns=\"http://www.w3.org/2000/svg\" height=\"24px\"viewBox=\"0 0 24 24\"\n",
              "       width=\"24px\">\n",
              "    <path d=\"M0 0h24v24H0V0z\" fill=\"none\"/>\n",
              "    <path d=\"M18.56 5.44l.94 2.06.94-2.06 2.06-.94-2.06-.94-.94-2.06-.94 2.06-2.06.94zm-11 1L8.5 8.5l.94-2.06 2.06-.94-2.06-.94L8.5 2.5l-.94 2.06-2.06.94zm10 10l.94 2.06.94-2.06 2.06-.94-2.06-.94-.94-2.06-.94 2.06-2.06.94z\"/><path d=\"M17.41 7.96l-1.37-1.37c-.4-.4-.92-.59-1.43-.59-.52 0-1.04.2-1.43.59L10.3 9.45l-7.72 7.72c-.78.78-.78 2.05 0 2.83L4 21.41c.39.39.9.59 1.41.59.51 0 1.02-.2 1.41-.59l7.78-7.78 2.81-2.81c.8-.78.8-2.07 0-2.86zM5.41 20L4 18.59l7.72-7.72 1.47 1.35L5.41 20z\"/>\n",
              "  </svg>\n",
              "      </button>\n",
              "      \n",
              "  <style>\n",
              "    .colab-df-container {\n",
              "      display:flex;\n",
              "      flex-wrap:wrap;\n",
              "      gap: 12px;\n",
              "    }\n",
              "\n",
              "    .colab-df-convert {\n",
              "      background-color: #E8F0FE;\n",
              "      border: none;\n",
              "      border-radius: 50%;\n",
              "      cursor: pointer;\n",
              "      display: none;\n",
              "      fill: #1967D2;\n",
              "      height: 32px;\n",
              "      padding: 0 0 0 0;\n",
              "      width: 32px;\n",
              "    }\n",
              "\n",
              "    .colab-df-convert:hover {\n",
              "      background-color: #E2EBFA;\n",
              "      box-shadow: 0px 1px 2px rgba(60, 64, 67, 0.3), 0px 1px 3px 1px rgba(60, 64, 67, 0.15);\n",
              "      fill: #174EA6;\n",
              "    }\n",
              "\n",
              "    [theme=dark] .colab-df-convert {\n",
              "      background-color: #3B4455;\n",
              "      fill: #D2E3FC;\n",
              "    }\n",
              "\n",
              "    [theme=dark] .colab-df-convert:hover {\n",
              "      background-color: #434B5C;\n",
              "      box-shadow: 0px 1px 3px 1px rgba(0, 0, 0, 0.15);\n",
              "      filter: drop-shadow(0px 1px 2px rgba(0, 0, 0, 0.3));\n",
              "      fill: #FFFFFF;\n",
              "    }\n",
              "  </style>\n",
              "\n",
              "      <script>\n",
              "        const buttonEl =\n",
              "          document.querySelector('#df-363c59bc-6250-460b-852c-7cb3850548c3 button.colab-df-convert');\n",
              "        buttonEl.style.display =\n",
              "          google.colab.kernel.accessAllowed ? 'block' : 'none';\n",
              "\n",
              "        async function convertToInteractive(key) {\n",
              "          const element = document.querySelector('#df-363c59bc-6250-460b-852c-7cb3850548c3');\n",
              "          const dataTable =\n",
              "            await google.colab.kernel.invokeFunction('convertToInteractive',\n",
              "                                                     [key], {});\n",
              "          if (!dataTable) return;\n",
              "\n",
              "          const docLinkHtml = 'Like what you see? Visit the ' +\n",
              "            '<a target=\"_blank\" href=https://colab.research.google.com/notebooks/data_table.ipynb>data table notebook</a>'\n",
              "            + ' to learn more about interactive tables.';\n",
              "          element.innerHTML = '';\n",
              "          dataTable['output_type'] = 'display_data';\n",
              "          await google.colab.output.renderOutput(dataTable, element);\n",
              "          const docLink = document.createElement('div');\n",
              "          docLink.innerHTML = docLinkHtml;\n",
              "          element.appendChild(docLink);\n",
              "        }\n",
              "      </script>\n",
              "    </div>\n",
              "  </div>\n",
              "  "
            ],
            "text/plain": [
              "  Class  ...                                            peptide\n",
              "0    -1  ...  [1, 0, 0, 1, 2, 3, 1, 0, 0, 0, 2, 2, 0, 1, 0, ...\n",
              "1    -1  ...  [6, 0, 1, 2, 0, 6, 4, 2, 0, 0, 1, 6, 2, 1, 0, ...\n",
              "2    -1  ...  [4, 0, 0, 2, 0, 0, 1, 0, 4, 0, 0, 0, 1, 0, 0, ...\n",
              "3    -1  ...  [0, 0, 0, 0, 0, 0, 0, 0, 0, 0, 1, 5, 0, 0, 0, ...\n",
              "4    -1  ...  [2, 0, 1, 0, 2, 1, 5, 1, 0, 0, 1, 3, 0, 1, 0, ...\n",
              "5    -1  ...  [1, 0, 0, 1, 3, 0, 0, 0, 0, 0, 1, 1, 2, 0, 0, ...\n",
              "6    -1  ...  [0, 0, 0, 1, 0, 0, 0, 0, 0, 0, 1, 0, 1, 0, 0, ...\n",
              "7    -1  ...  [2, 0, 1, 0, 0, 0, 0, 2, 2, 0, 0, 1, 0, 0, 0, ...\n",
              "8    -1  ...  [2, 0, 0, 1, 0, 2, 3, 2, 1, 0, 1, 2, 1, 2, 0, ...\n",
              "9     1  ...  [2, 0, 0, 0, 0, 1, 0, 0, 0, 0, 4, 4, 0, 1, 0, ...\n",
              "\n",
              "[10 rows x 3 columns]"
            ]
          },
          "metadata": {},
          "execution_count": 26
        }
      ]
    },
    {
      "cell_type": "code",
      "source": [
        "from imblearn.over_sampling import RandomOverSampler\n",
        "\n",
        "ros = RandomOverSampler(random_state=42)\n",
        "\n",
        "X = train_data['peptide']\n",
        "X = list(X)\n",
        "\n",
        "y = train_data['Class']\n",
        "y = y.astype(int)\n",
        "y = np.where(y < 0, 0, y)\n",
        "\n",
        "y.reshape(-1,1)\n",
        "\n",
        "X_ros ,y_ros = ros.fit_resample(X,y)\n",
        "\n",
        "#print('Original dataset shape', Counter(y))\n",
        "#print('Resample dataset shape', Counter(y_ros))"
      ],
      "metadata": {
        "id": "D8O5sUv0WRUs"
      },
      "execution_count": null,
      "outputs": []
    },
    {
      "cell_type": "code",
      "source": [
        "x_train, x_test, y_train, y_test = train_test_split(X_ros, y_ros, test_size=0.33, random_state=40)"
      ],
      "metadata": {
        "id": "8SA6j_pbWmch"
      },
      "execution_count": null,
      "outputs": []
    },
    {
      "cell_type": "code",
      "source": [
        "x_train = np.array(x_train).T\n",
        "y_train = np.array(y_train)\n",
        "y_train = np.where(y_train < 0, 0,y_train)\n",
        "y_train = y_train.reshape(-1,1)\n",
        "\n",
        "x_test = np.array(x_test).T\n",
        "y_test = np.array(y_test)\n",
        "y_test = np.where(y_test < 0, 0,y_test)\n",
        "y_test = y_test.reshape(-1,1)"
      ],
      "metadata": {
        "id": "Lqv_K4zIXSbX"
      },
      "execution_count": null,
      "outputs": []
    },
    {
      "cell_type": "code",
      "source": [
        "print(x_train.shape, x_test.shape, y_train.shape, y_test.shape)"
      ],
      "metadata": {
        "id": "lQHNVCciYWQA",
        "colab": {
          "base_uri": "https://localhost:8080/"
        },
        "outputId": "3b61ce38-537a-4acf-8db6-c7b1cf2bccf9"
      },
      "execution_count": null,
      "outputs": [
        {
          "output_type": "stream",
          "name": "stdout",
          "text": [
            "(26, 1906) (26, 940) (1906, 1) (940, 1)\n"
          ]
        }
      ]
    },
    {
      "cell_type": "code",
      "source": [
        "from tensorflow.keras.layers import Input, Dense, Activation,Dropout\n",
        "from tensorflow.keras.models import Model, Sequential"
      ],
      "metadata": {
        "id": "_Akd6wTWWujL"
      },
      "execution_count": null,
      "outputs": []
    },
    {
      "cell_type": "code",
      "source": [
        "np.array(X_ros).shape[1]"
      ],
      "metadata": {
        "id": "tO0A2uevchDa",
        "colab": {
          "base_uri": "https://localhost:8080/"
        },
        "outputId": "72bd4b22-d189-4d64-89b3-80d886ae8808"
      },
      "execution_count": null,
      "outputs": [
        {
          "output_type": "execute_result",
          "data": {
            "text/plain": [
              "26"
            ]
          },
          "metadata": {},
          "execution_count": 32
        }
      ]
    },
    {
      "cell_type": "code",
      "source": [
        "Joseph = Sequential()\n",
        "\n",
        "Joseph.add(Dense(units = 10, kernel_initializer = 'uniform', activation = 'relu', input_dim= 26))\n",
        "Joseph.add(Dense(units = 10, activation = 'relu'))\n",
        "Joseph.add(Dense(units = 5, activation = 'relu'))\n",
        "\n",
        "Joseph.add(Dense(units = 1, activation = 'sigmoid'))\n",
        "\n",
        "Joseph.compile(optimizer = tf.keras.optimizers.Adam(learning_rate=0.01), loss = 'binary_crossentropy', metrics = ['accuracy'])"
      ],
      "metadata": {
        "id": "SX8uNGgAWybo"
      },
      "execution_count": null,
      "outputs": []
    },
    {
      "cell_type": "code",
      "source": [
        ""
      ],
      "metadata": {
        "id": "jM_WJlgVfFQh"
      },
      "execution_count": null,
      "outputs": []
    },
    {
      "cell_type": "code",
      "source": [
        "print(Joseph.summary())"
      ],
      "metadata": {
        "colab": {
          "base_uri": "https://localhost:8080/"
        },
        "id": "FaZOMVrpW6jy",
        "outputId": "abb82cf9-601f-471d-d7c5-38e8b4eeceb4"
      },
      "execution_count": null,
      "outputs": [
        {
          "output_type": "stream",
          "name": "stdout",
          "text": [
            "Model: \"sequential_1\"\n",
            "_________________________________________________________________\n",
            " Layer (type)                Output Shape              Param #   \n",
            "=================================================================\n",
            " dense_4 (Dense)             (None, 10)                270       \n",
            "                                                                 \n",
            " dense_5 (Dense)             (None, 10)                110       \n",
            "                                                                 \n",
            " dense_6 (Dense)             (None, 5)                 55        \n",
            "                                                                 \n",
            " dense_7 (Dense)             (None, 1)                 6         \n",
            "                                                                 \n",
            "=================================================================\n",
            "Total params: 441\n",
            "Trainable params: 441\n",
            "Non-trainable params: 0\n",
            "_________________________________________________________________\n",
            "None\n"
          ]
        }
      ]
    },
    {
      "cell_type": "code",
      "source": [
        "x_train.shape,y_train.shape"
      ],
      "metadata": {
        "colab": {
          "base_uri": "https://localhost:8080/"
        },
        "id": "AspI4HIsfXQb",
        "outputId": "72baa22f-0275-4b0d-dc0f-67386d5eeb51"
      },
      "execution_count": null,
      "outputs": [
        {
          "output_type": "execute_result",
          "data": {
            "text/plain": [
              "((26, 1906), (1906, 1))"
            ]
          },
          "metadata": {},
          "execution_count": 36
        }
      ]
    },
    {
      "cell_type": "code",
      "source": [
        "model = Joseph.fit(x_train.T, y_train, batch_size = 8, epochs = 60)"
      ],
      "metadata": {
        "colab": {
          "base_uri": "https://localhost:8080/"
        },
        "id": "BBdij3CDYAJB",
        "outputId": "caadd408-15d0-43d3-fb7a-5d234de0d76a"
      },
      "execution_count": null,
      "outputs": [
        {
          "output_type": "stream",
          "name": "stdout",
          "text": [
            "Epoch 1/60\n",
            "239/239 [==============================] - 1s 3ms/step - loss: 0.2663 - accuracy: 0.8903\n",
            "Epoch 2/60\n",
            "239/239 [==============================] - 0s 2ms/step - loss: 0.1658 - accuracy: 0.9255\n",
            "Epoch 3/60\n",
            "239/239 [==============================] - 0s 2ms/step - loss: 0.1482 - accuracy: 0.9381\n",
            "Epoch 4/60\n",
            "239/239 [==============================] - 1s 3ms/step - loss: 0.1061 - accuracy: 0.9538\n",
            "Epoch 5/60\n",
            "239/239 [==============================] - 1s 2ms/step - loss: 0.1360 - accuracy: 0.9465\n",
            "Epoch 6/60\n",
            "239/239 [==============================] - 1s 2ms/step - loss: 0.0981 - accuracy: 0.9622\n",
            "Epoch 7/60\n",
            "239/239 [==============================] - 1s 2ms/step - loss: 0.0731 - accuracy: 0.9769\n",
            "Epoch 8/60\n",
            "239/239 [==============================] - 1s 2ms/step - loss: 0.0656 - accuracy: 0.9795\n",
            "Epoch 9/60\n",
            "239/239 [==============================] - 0s 2ms/step - loss: 0.0549 - accuracy: 0.9853\n",
            "Epoch 10/60\n",
            "239/239 [==============================] - 0s 2ms/step - loss: 0.0991 - accuracy: 0.9690\n",
            "Epoch 11/60\n",
            "239/239 [==============================] - 0s 2ms/step - loss: 0.0612 - accuracy: 0.9832\n",
            "Epoch 12/60\n",
            "239/239 [==============================] - 0s 2ms/step - loss: 0.0631 - accuracy: 0.9827\n",
            "Epoch 13/60\n",
            "239/239 [==============================] - 0s 2ms/step - loss: 0.0521 - accuracy: 0.9837\n",
            "Epoch 14/60\n",
            "239/239 [==============================] - 0s 2ms/step - loss: 0.0389 - accuracy: 0.9911\n",
            "Epoch 15/60\n",
            "239/239 [==============================] - 0s 2ms/step - loss: 0.0478 - accuracy: 0.9869\n",
            "Epoch 16/60\n",
            "239/239 [==============================] - 0s 2ms/step - loss: 0.0554 - accuracy: 0.9837\n",
            "Epoch 17/60\n",
            "239/239 [==============================] - 0s 2ms/step - loss: 0.0391 - accuracy: 0.9900\n",
            "Epoch 18/60\n",
            "239/239 [==============================] - 0s 2ms/step - loss: 0.0311 - accuracy: 0.9932\n",
            "Epoch 19/60\n",
            "239/239 [==============================] - 0s 2ms/step - loss: 0.0953 - accuracy: 0.9801\n",
            "Epoch 20/60\n",
            "239/239 [==============================] - 0s 2ms/step - loss: 0.0479 - accuracy: 0.9848\n",
            "Epoch 21/60\n",
            "239/239 [==============================] - 1s 2ms/step - loss: 0.0435 - accuracy: 0.9858\n",
            "Epoch 22/60\n",
            "239/239 [==============================] - 1s 2ms/step - loss: 0.0226 - accuracy: 0.9953\n",
            "Epoch 23/60\n",
            "239/239 [==============================] - 1s 2ms/step - loss: 0.0220 - accuracy: 0.9948\n",
            "Epoch 24/60\n",
            "239/239 [==============================] - 1s 3ms/step - loss: 0.0386 - accuracy: 0.9890\n",
            "Epoch 25/60\n",
            "239/239 [==============================] - 1s 2ms/step - loss: 0.0551 - accuracy: 0.9827\n",
            "Epoch 26/60\n",
            "239/239 [==============================] - 1s 2ms/step - loss: 0.0236 - accuracy: 0.9953\n",
            "Epoch 27/60\n",
            "239/239 [==============================] - 1s 2ms/step - loss: 0.0199 - accuracy: 0.9958\n",
            "Epoch 28/60\n",
            "239/239 [==============================] - 0s 2ms/step - loss: 0.0167 - accuracy: 0.9963\n",
            "Epoch 29/60\n",
            "239/239 [==============================] - 0s 2ms/step - loss: 0.0503 - accuracy: 0.9853\n",
            "Epoch 30/60\n",
            "239/239 [==============================] - 0s 2ms/step - loss: 0.0616 - accuracy: 0.9837\n",
            "Epoch 31/60\n",
            "239/239 [==============================] - 0s 2ms/step - loss: 0.0269 - accuracy: 0.9932\n",
            "Epoch 32/60\n",
            "239/239 [==============================] - 0s 2ms/step - loss: 0.0273 - accuracy: 0.9927\n",
            "Epoch 33/60\n",
            "239/239 [==============================] - 0s 2ms/step - loss: 0.0421 - accuracy: 0.9848\n",
            "Epoch 34/60\n",
            "239/239 [==============================] - 0s 2ms/step - loss: 0.0231 - accuracy: 0.9958\n",
            "Epoch 35/60\n",
            "239/239 [==============================] - 1s 2ms/step - loss: 0.0138 - accuracy: 0.9953\n",
            "Epoch 36/60\n",
            "239/239 [==============================] - 1s 2ms/step - loss: 0.0128 - accuracy: 0.9969\n",
            "Epoch 37/60\n",
            "239/239 [==============================] - 1s 2ms/step - loss: 0.0083 - accuracy: 0.9984\n",
            "Epoch 38/60\n",
            "239/239 [==============================] - 1s 2ms/step - loss: 0.0084 - accuracy: 0.9990\n",
            "Epoch 39/60\n",
            "239/239 [==============================] - 1s 2ms/step - loss: 0.0058 - accuracy: 0.9995\n",
            "Epoch 40/60\n",
            "239/239 [==============================] - 0s 2ms/step - loss: 0.0051 - accuracy: 0.9995\n",
            "Epoch 41/60\n",
            "239/239 [==============================] - 0s 2ms/step - loss: 0.0044 - accuracy: 0.9995\n",
            "Epoch 42/60\n",
            "239/239 [==============================] - 0s 2ms/step - loss: 0.0042 - accuracy: 0.9995\n",
            "Epoch 43/60\n",
            "239/239 [==============================] - 0s 2ms/step - loss: 0.0043 - accuracy: 0.9995\n",
            "Epoch 44/60\n",
            "239/239 [==============================] - 0s 2ms/step - loss: 0.0651 - accuracy: 0.9864\n",
            "Epoch 45/60\n",
            "239/239 [==============================] - 0s 2ms/step - loss: 0.1424 - accuracy: 0.9486\n",
            "Epoch 46/60\n",
            "239/239 [==============================] - 0s 2ms/step - loss: 0.0407 - accuracy: 0.9858\n",
            "Epoch 47/60\n",
            "239/239 [==============================] - 1s 3ms/step - loss: 0.0347 - accuracy: 0.9895\n",
            "Epoch 48/60\n",
            "239/239 [==============================] - 1s 2ms/step - loss: 0.0178 - accuracy: 0.9932\n",
            "Epoch 49/60\n",
            "239/239 [==============================] - 1s 2ms/step - loss: 0.0144 - accuracy: 0.9942\n",
            "Epoch 50/60\n",
            "239/239 [==============================] - 0s 2ms/step - loss: 0.0144 - accuracy: 0.9942\n",
            "Epoch 51/60\n",
            "239/239 [==============================] - 0s 2ms/step - loss: 0.0132 - accuracy: 0.9953\n",
            "Epoch 52/60\n",
            "239/239 [==============================] - 1s 2ms/step - loss: 0.0133 - accuracy: 0.9963\n",
            "Epoch 53/60\n",
            "239/239 [==============================] - 1s 3ms/step - loss: 0.0326 - accuracy: 0.9911\n",
            "Epoch 54/60\n",
            "239/239 [==============================] - 1s 2ms/step - loss: 0.0185 - accuracy: 0.9942\n",
            "Epoch 55/60\n",
            "239/239 [==============================] - 1s 3ms/step - loss: 0.0077 - accuracy: 0.9984\n",
            "Epoch 56/60\n",
            "239/239 [==============================] - 0s 2ms/step - loss: 0.0047 - accuracy: 0.9995\n",
            "Epoch 57/60\n",
            "239/239 [==============================] - 0s 2ms/step - loss: 0.0033 - accuracy: 0.9995\n",
            "Epoch 58/60\n",
            "239/239 [==============================] - 0s 2ms/step - loss: 0.0156 - accuracy: 0.9958\n",
            "Epoch 59/60\n",
            "239/239 [==============================] - 0s 2ms/step - loss: 0.0651 - accuracy: 0.9785\n",
            "Epoch 60/60\n",
            "239/239 [==============================] - 0s 2ms/step - loss: 0.0335 - accuracy: 0.9869\n"
          ]
        }
      ]
    },
    {
      "cell_type": "code",
      "source": [
        "x_train.T[0]"
      ],
      "metadata": {
        "id": "E7qnxyYoYJDX",
        "colab": {
          "base_uri": "https://localhost:8080/"
        },
        "outputId": "147b163a-c4da-44bd-8854-cb1ef4c03bfa"
      },
      "execution_count": null,
      "outputs": [
        {
          "output_type": "execute_result",
          "data": {
            "text/plain": [
              "array([3, 0, 2, 2, 0, 1, 2, 0, 2, 0, 2, 2, 1, 4, 0, 1, 0, 3, 1, 3, 0, 2,\n",
              "       0, 0, 1, 0])"
            ]
          },
          "metadata": {},
          "execution_count": 38
        }
      ]
    },
    {
      "cell_type": "code",
      "source": [
        "score = Joseph.evaluate(x_test.T, y_test, verbose=1)\n",
        "\n",
        "print(\"Test Score:\", score[0])\n",
        "print(\"Test Accuracy:\", score[1])"
      ],
      "metadata": {
        "id": "0W6GQYPQgqV-",
        "colab": {
          "base_uri": "https://localhost:8080/"
        },
        "outputId": "5008a1dd-3a84-4c5f-e9f5-c7a068dbf58e"
      },
      "execution_count": null,
      "outputs": [
        {
          "output_type": "stream",
          "name": "stdout",
          "text": [
            "30/30 [==============================] - 0s 1ms/step - loss: 0.0758 - accuracy: 0.9819\n",
            "Test Score: 0.0757516399025917\n",
            "Test Accuracy: 0.9819148778915405\n"
          ]
        }
      ]
    },
    {
      "cell_type": "code",
      "source": [
        ""
      ],
      "metadata": {
        "id": "LMK-fg7vExTx"
      },
      "execution_count": null,
      "outputs": []
    }
  ]
}
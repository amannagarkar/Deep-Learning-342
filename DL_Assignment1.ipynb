{
  "nbformat": 4,
  "nbformat_minor": 0,
  "metadata": {
    "colab": {
      "name": "DL Assignment1.ipynb",
      "provenance": [],
      "collapsed_sections": [],
      "mount_file_id": "1qRHLM5yGJ69D9013xlbrX8OOwHRp1Ujn",
      "authorship_tag": "ABX9TyNsG6wt24uS2EuZITKDKs7z",
      "include_colab_link": true
    },
    "kernelspec": {
      "name": "python3",
      "display_name": "Python 3"
    },
    "language_info": {
      "name": "python"
    }
  },
  "cells": [
    {
      "cell_type": "markdown",
      "metadata": {
        "id": "view-in-github",
        "colab_type": "text"
      },
      "source": [
        "<a href=\"https://colab.research.google.com/github/amannagarkar/Deep-Learning-342/blob/main/DL_Assignment1.ipynb\" target=\"_parent\"><img src=\"https://colab.research.google.com/assets/colab-badge.svg\" alt=\"Open In Colab\"/></a>"
      ]
    },
    {
      "cell_type": "code",
      "source": [
        "import numpy as np\n",
        "import matplotlib.pyplot as plt\n",
        "import pandas as pd \n",
        "from sklearn import preprocessing\n",
        "from sklearn.preprocessing import MinMaxScaler\n",
        "from sklearn import metrics\n",
        "from sklearn.metrics import confusion_matrix\n",
        "import itertools\n",
        "\n",
        "np.set_printoptions(threshold=np.inf)\n",
        "\n",
        "%matplotlib inline\n",
        "%load_ext autoreload\n",
        "%autoreload 2"
      ],
      "metadata": {
        "id": "TZDY2cV2_oMQ"
      },
      "execution_count": 20,
      "outputs": []
    },
    {
      "cell_type": "code",
      "source": [
        "train_path = \"/content/drive/MyDrive/Data/Peptide-Analysis/train.dat\"\n",
        "test_path = \"/content/drive/MyDrive/Data/Peptide-Analysis/test.dat\"\n",
        "train_data = pd.read_csv(train_path)\n",
        "test_data = pd.read_csv(test_path)"
      ],
      "metadata": {
        "id": "bgXydkm_AZLK"
      },
      "execution_count": 2,
      "outputs": []
    },
    {
      "cell_type": "code",
      "source": [
        "train_data.head()"
      ],
      "metadata": {
        "colab": {
          "base_uri": "https://localhost:8080/",
          "height": 206
        },
        "id": "xJ6Bth5lAvqt",
        "outputId": "2ede4c09-92e8-4e08-d413-93fd15bfe556"
      },
      "execution_count": 3,
      "outputs": [
        {
          "output_type": "execute_result",
          "data": {
            "text/html": [
              "\n",
              "  <div id=\"df-c6cefcd7-7d7c-4905-88c9-d115bf7b454e\">\n",
              "    <div class=\"colab-df-container\">\n",
              "      <div>\n",
              "<style scoped>\n",
              "    .dataframe tbody tr th:only-of-type {\n",
              "        vertical-align: middle;\n",
              "    }\n",
              "\n",
              "    .dataframe tbody tr th {\n",
              "        vertical-align: top;\n",
              "    }\n",
              "\n",
              "    .dataframe thead th {\n",
              "        text-align: right;\n",
              "    }\n",
              "</style>\n",
              "<table border=\"1\" class=\"dataframe\">\n",
              "  <thead>\n",
              "    <tr style=\"text-align: right;\">\n",
              "      <th></th>\n",
              "      <th>-1\\tDVELDLVEISPNALP</th>\n",
              "    </tr>\n",
              "  </thead>\n",
              "  <tbody>\n",
              "    <tr>\n",
              "      <th>0</th>\n",
              "      <td>-1\\tKADEELFNKLFFGT</td>\n",
              "    </tr>\n",
              "    <tr>\n",
              "      <th>1</th>\n",
              "      <td>-1\\tFLVALHLGTAFALLWYFRKRWCALVRGFFASFGGRRNDDAHMM</td>\n",
              "    </tr>\n",
              "    <tr>\n",
              "      <th>2</th>\n",
              "      <td>-1\\tRDQMRARIADITGVAISRIA</td>\n",
              "    </tr>\n",
              "    <tr>\n",
              "      <th>3</th>\n",
              "      <td>-1\\tRKRLQLLLL</td>\n",
              "    </tr>\n",
              "    <tr>\n",
              "      <th>4</th>\n",
              "      <td>-1\\tPGFCVGEASPLKSPGRRELGHGNLA</td>\n",
              "    </tr>\n",
              "  </tbody>\n",
              "</table>\n",
              "</div>\n",
              "      <button class=\"colab-df-convert\" onclick=\"convertToInteractive('df-c6cefcd7-7d7c-4905-88c9-d115bf7b454e')\"\n",
              "              title=\"Convert this dataframe to an interactive table.\"\n",
              "              style=\"display:none;\">\n",
              "        \n",
              "  <svg xmlns=\"http://www.w3.org/2000/svg\" height=\"24px\"viewBox=\"0 0 24 24\"\n",
              "       width=\"24px\">\n",
              "    <path d=\"M0 0h24v24H0V0z\" fill=\"none\"/>\n",
              "    <path d=\"M18.56 5.44l.94 2.06.94-2.06 2.06-.94-2.06-.94-.94-2.06-.94 2.06-2.06.94zm-11 1L8.5 8.5l.94-2.06 2.06-.94-2.06-.94L8.5 2.5l-.94 2.06-2.06.94zm10 10l.94 2.06.94-2.06 2.06-.94-2.06-.94-.94-2.06-.94 2.06-2.06.94z\"/><path d=\"M17.41 7.96l-1.37-1.37c-.4-.4-.92-.59-1.43-.59-.52 0-1.04.2-1.43.59L10.3 9.45l-7.72 7.72c-.78.78-.78 2.05 0 2.83L4 21.41c.39.39.9.59 1.41.59.51 0 1.02-.2 1.41-.59l7.78-7.78 2.81-2.81c.8-.78.8-2.07 0-2.86zM5.41 20L4 18.59l7.72-7.72 1.47 1.35L5.41 20z\"/>\n",
              "  </svg>\n",
              "      </button>\n",
              "      \n",
              "  <style>\n",
              "    .colab-df-container {\n",
              "      display:flex;\n",
              "      flex-wrap:wrap;\n",
              "      gap: 12px;\n",
              "    }\n",
              "\n",
              "    .colab-df-convert {\n",
              "      background-color: #E8F0FE;\n",
              "      border: none;\n",
              "      border-radius: 50%;\n",
              "      cursor: pointer;\n",
              "      display: none;\n",
              "      fill: #1967D2;\n",
              "      height: 32px;\n",
              "      padding: 0 0 0 0;\n",
              "      width: 32px;\n",
              "    }\n",
              "\n",
              "    .colab-df-convert:hover {\n",
              "      background-color: #E2EBFA;\n",
              "      box-shadow: 0px 1px 2px rgba(60, 64, 67, 0.3), 0px 1px 3px 1px rgba(60, 64, 67, 0.15);\n",
              "      fill: #174EA6;\n",
              "    }\n",
              "\n",
              "    [theme=dark] .colab-df-convert {\n",
              "      background-color: #3B4455;\n",
              "      fill: #D2E3FC;\n",
              "    }\n",
              "\n",
              "    [theme=dark] .colab-df-convert:hover {\n",
              "      background-color: #434B5C;\n",
              "      box-shadow: 0px 1px 3px 1px rgba(0, 0, 0, 0.15);\n",
              "      filter: drop-shadow(0px 1px 2px rgba(0, 0, 0, 0.3));\n",
              "      fill: #FFFFFF;\n",
              "    }\n",
              "  </style>\n",
              "\n",
              "      <script>\n",
              "        const buttonEl =\n",
              "          document.querySelector('#df-c6cefcd7-7d7c-4905-88c9-d115bf7b454e button.colab-df-convert');\n",
              "        buttonEl.style.display =\n",
              "          google.colab.kernel.accessAllowed ? 'block' : 'none';\n",
              "\n",
              "        async function convertToInteractive(key) {\n",
              "          const element = document.querySelector('#df-c6cefcd7-7d7c-4905-88c9-d115bf7b454e');\n",
              "          const dataTable =\n",
              "            await google.colab.kernel.invokeFunction('convertToInteractive',\n",
              "                                                     [key], {});\n",
              "          if (!dataTable) return;\n",
              "\n",
              "          const docLinkHtml = 'Like what you see? Visit the ' +\n",
              "            '<a target=\"_blank\" href=https://colab.research.google.com/notebooks/data_table.ipynb>data table notebook</a>'\n",
              "            + ' to learn more about interactive tables.';\n",
              "          element.innerHTML = '';\n",
              "          dataTable['output_type'] = 'display_data';\n",
              "          await google.colab.output.renderOutput(dataTable, element);\n",
              "          const docLink = document.createElement('div');\n",
              "          docLink.innerHTML = docLinkHtml;\n",
              "          element.appendChild(docLink);\n",
              "        }\n",
              "      </script>\n",
              "    </div>\n",
              "  </div>\n",
              "  "
            ],
            "text/plain": [
              "                               -1\\tDVELDLVEISPNALP\n",
              "0                               -1\\tKADEELFNKLFFGT\n",
              "1  -1\\tFLVALHLGTAFALLWYFRKRWCALVRGFFASFGGRRNDDAHMM\n",
              "2                         -1\\tRDQMRARIADITGVAISRIA\n",
              "3                                    -1\\tRKRLQLLLL\n",
              "4                    -1\\tPGFCVGEASPLKSPGRRELGHGNLA"
            ]
          },
          "metadata": {},
          "execution_count": 3
        }
      ]
    },
    {
      "cell_type": "code",
      "source": [
        "train_data.columns = ['String']\n",
        "train_data = train_data['String'].str.split(\"\\t\",n=1 , expand = True )\n",
        "train_data.columns = ['Class','Peptide']\n",
        "train_data.head()"
      ],
      "metadata": {
        "colab": {
          "base_uri": "https://localhost:8080/",
          "height": 206
        },
        "id": "yOVORg9AClc5",
        "outputId": "dd405b3d-06a4-4b1b-c970-f97aa2eb7087"
      },
      "execution_count": 4,
      "outputs": [
        {
          "output_type": "execute_result",
          "data": {
            "text/html": [
              "\n",
              "  <div id=\"df-ffdbc4fc-60e7-47fa-accd-6324b58aa0fd\">\n",
              "    <div class=\"colab-df-container\">\n",
              "      <div>\n",
              "<style scoped>\n",
              "    .dataframe tbody tr th:only-of-type {\n",
              "        vertical-align: middle;\n",
              "    }\n",
              "\n",
              "    .dataframe tbody tr th {\n",
              "        vertical-align: top;\n",
              "    }\n",
              "\n",
              "    .dataframe thead th {\n",
              "        text-align: right;\n",
              "    }\n",
              "</style>\n",
              "<table border=\"1\" class=\"dataframe\">\n",
              "  <thead>\n",
              "    <tr style=\"text-align: right;\">\n",
              "      <th></th>\n",
              "      <th>Class</th>\n",
              "      <th>Peptide</th>\n",
              "    </tr>\n",
              "  </thead>\n",
              "  <tbody>\n",
              "    <tr>\n",
              "      <th>0</th>\n",
              "      <td>-1</td>\n",
              "      <td>KADEELFNKLFFGT</td>\n",
              "    </tr>\n",
              "    <tr>\n",
              "      <th>1</th>\n",
              "      <td>-1</td>\n",
              "      <td>FLVALHLGTAFALLWYFRKRWCALVRGFFASFGGRRNDDAHMM</td>\n",
              "    </tr>\n",
              "    <tr>\n",
              "      <th>2</th>\n",
              "      <td>-1</td>\n",
              "      <td>RDQMRARIADITGVAISRIA</td>\n",
              "    </tr>\n",
              "    <tr>\n",
              "      <th>3</th>\n",
              "      <td>-1</td>\n",
              "      <td>RKRLQLLLL</td>\n",
              "    </tr>\n",
              "    <tr>\n",
              "      <th>4</th>\n",
              "      <td>-1</td>\n",
              "      <td>PGFCVGEASPLKSPGRRELGHGNLA</td>\n",
              "    </tr>\n",
              "  </tbody>\n",
              "</table>\n",
              "</div>\n",
              "      <button class=\"colab-df-convert\" onclick=\"convertToInteractive('df-ffdbc4fc-60e7-47fa-accd-6324b58aa0fd')\"\n",
              "              title=\"Convert this dataframe to an interactive table.\"\n",
              "              style=\"display:none;\">\n",
              "        \n",
              "  <svg xmlns=\"http://www.w3.org/2000/svg\" height=\"24px\"viewBox=\"0 0 24 24\"\n",
              "       width=\"24px\">\n",
              "    <path d=\"M0 0h24v24H0V0z\" fill=\"none\"/>\n",
              "    <path d=\"M18.56 5.44l.94 2.06.94-2.06 2.06-.94-2.06-.94-.94-2.06-.94 2.06-2.06.94zm-11 1L8.5 8.5l.94-2.06 2.06-.94-2.06-.94L8.5 2.5l-.94 2.06-2.06.94zm10 10l.94 2.06.94-2.06 2.06-.94-2.06-.94-.94-2.06-.94 2.06-2.06.94z\"/><path d=\"M17.41 7.96l-1.37-1.37c-.4-.4-.92-.59-1.43-.59-.52 0-1.04.2-1.43.59L10.3 9.45l-7.72 7.72c-.78.78-.78 2.05 0 2.83L4 21.41c.39.39.9.59 1.41.59.51 0 1.02-.2 1.41-.59l7.78-7.78 2.81-2.81c.8-.78.8-2.07 0-2.86zM5.41 20L4 18.59l7.72-7.72 1.47 1.35L5.41 20z\"/>\n",
              "  </svg>\n",
              "      </button>\n",
              "      \n",
              "  <style>\n",
              "    .colab-df-container {\n",
              "      display:flex;\n",
              "      flex-wrap:wrap;\n",
              "      gap: 12px;\n",
              "    }\n",
              "\n",
              "    .colab-df-convert {\n",
              "      background-color: #E8F0FE;\n",
              "      border: none;\n",
              "      border-radius: 50%;\n",
              "      cursor: pointer;\n",
              "      display: none;\n",
              "      fill: #1967D2;\n",
              "      height: 32px;\n",
              "      padding: 0 0 0 0;\n",
              "      width: 32px;\n",
              "    }\n",
              "\n",
              "    .colab-df-convert:hover {\n",
              "      background-color: #E2EBFA;\n",
              "      box-shadow: 0px 1px 2px rgba(60, 64, 67, 0.3), 0px 1px 3px 1px rgba(60, 64, 67, 0.15);\n",
              "      fill: #174EA6;\n",
              "    }\n",
              "\n",
              "    [theme=dark] .colab-df-convert {\n",
              "      background-color: #3B4455;\n",
              "      fill: #D2E3FC;\n",
              "    }\n",
              "\n",
              "    [theme=dark] .colab-df-convert:hover {\n",
              "      background-color: #434B5C;\n",
              "      box-shadow: 0px 1px 3px 1px rgba(0, 0, 0, 0.15);\n",
              "      filter: drop-shadow(0px 1px 2px rgba(0, 0, 0, 0.3));\n",
              "      fill: #FFFFFF;\n",
              "    }\n",
              "  </style>\n",
              "\n",
              "      <script>\n",
              "        const buttonEl =\n",
              "          document.querySelector('#df-ffdbc4fc-60e7-47fa-accd-6324b58aa0fd button.colab-df-convert');\n",
              "        buttonEl.style.display =\n",
              "          google.colab.kernel.accessAllowed ? 'block' : 'none';\n",
              "\n",
              "        async function convertToInteractive(key) {\n",
              "          const element = document.querySelector('#df-ffdbc4fc-60e7-47fa-accd-6324b58aa0fd');\n",
              "          const dataTable =\n",
              "            await google.colab.kernel.invokeFunction('convertToInteractive',\n",
              "                                                     [key], {});\n",
              "          if (!dataTable) return;\n",
              "\n",
              "          const docLinkHtml = 'Like what you see? Visit the ' +\n",
              "            '<a target=\"_blank\" href=https://colab.research.google.com/notebooks/data_table.ipynb>data table notebook</a>'\n",
              "            + ' to learn more about interactive tables.';\n",
              "          element.innerHTML = '';\n",
              "          dataTable['output_type'] = 'display_data';\n",
              "          await google.colab.output.renderOutput(dataTable, element);\n",
              "          const docLink = document.createElement('div');\n",
              "          docLink.innerHTML = docLinkHtml;\n",
              "          element.appendChild(docLink);\n",
              "        }\n",
              "      </script>\n",
              "    </div>\n",
              "  </div>\n",
              "  "
            ],
            "text/plain": [
              "  Class                                      Peptide\n",
              "0    -1                               KADEELFNKLFFGT\n",
              "1    -1  FLVALHLGTAFALLWYFRKRWCALVRGFFASFGGRRNDDAHMM\n",
              "2    -1                         RDQMRARIADITGVAISRIA\n",
              "3    -1                                    RKRLQLLLL\n",
              "4    -1                    PGFCVGEASPLKSPGRRELGHGNLA"
            ]
          },
          "metadata": {},
          "execution_count": 4
        }
      ]
    },
    {
      "cell_type": "code",
      "source": [
        "train_data.describe()"
      ],
      "metadata": {
        "colab": {
          "base_uri": "https://localhost:8080/",
          "height": 174
        },
        "id": "FrcoEXqGLsVa",
        "outputId": "f026fba3-665b-4666-c2d4-db8e7fe3ccef"
      },
      "execution_count": 5,
      "outputs": [
        {
          "output_type": "execute_result",
          "data": {
            "text/html": [
              "\n",
              "  <div id=\"df-e53398d1-dfbf-41cc-80b5-4517bba165b1\">\n",
              "    <div class=\"colab-df-container\">\n",
              "      <div>\n",
              "<style scoped>\n",
              "    .dataframe tbody tr th:only-of-type {\n",
              "        vertical-align: middle;\n",
              "    }\n",
              "\n",
              "    .dataframe tbody tr th {\n",
              "        vertical-align: top;\n",
              "    }\n",
              "\n",
              "    .dataframe thead th {\n",
              "        text-align: right;\n",
              "    }\n",
              "</style>\n",
              "<table border=\"1\" class=\"dataframe\">\n",
              "  <thead>\n",
              "    <tr style=\"text-align: right;\">\n",
              "      <th></th>\n",
              "      <th>Class</th>\n",
              "      <th>Peptide</th>\n",
              "    </tr>\n",
              "  </thead>\n",
              "  <tbody>\n",
              "    <tr>\n",
              "      <th>count</th>\n",
              "      <td>1565</td>\n",
              "      <td>1565</td>\n",
              "    </tr>\n",
              "    <tr>\n",
              "      <th>unique</th>\n",
              "      <td>2</td>\n",
              "      <td>1558</td>\n",
              "    </tr>\n",
              "    <tr>\n",
              "      <th>top</th>\n",
              "      <td>-1</td>\n",
              "      <td>VFLRRIRVIVIR</td>\n",
              "    </tr>\n",
              "    <tr>\n",
              "      <th>freq</th>\n",
              "      <td>1423</td>\n",
              "      <td>2</td>\n",
              "    </tr>\n",
              "  </tbody>\n",
              "</table>\n",
              "</div>\n",
              "      <button class=\"colab-df-convert\" onclick=\"convertToInteractive('df-e53398d1-dfbf-41cc-80b5-4517bba165b1')\"\n",
              "              title=\"Convert this dataframe to an interactive table.\"\n",
              "              style=\"display:none;\">\n",
              "        \n",
              "  <svg xmlns=\"http://www.w3.org/2000/svg\" height=\"24px\"viewBox=\"0 0 24 24\"\n",
              "       width=\"24px\">\n",
              "    <path d=\"M0 0h24v24H0V0z\" fill=\"none\"/>\n",
              "    <path d=\"M18.56 5.44l.94 2.06.94-2.06 2.06-.94-2.06-.94-.94-2.06-.94 2.06-2.06.94zm-11 1L8.5 8.5l.94-2.06 2.06-.94-2.06-.94L8.5 2.5l-.94 2.06-2.06.94zm10 10l.94 2.06.94-2.06 2.06-.94-2.06-.94-.94-2.06-.94 2.06-2.06.94z\"/><path d=\"M17.41 7.96l-1.37-1.37c-.4-.4-.92-.59-1.43-.59-.52 0-1.04.2-1.43.59L10.3 9.45l-7.72 7.72c-.78.78-.78 2.05 0 2.83L4 21.41c.39.39.9.59 1.41.59.51 0 1.02-.2 1.41-.59l7.78-7.78 2.81-2.81c.8-.78.8-2.07 0-2.86zM5.41 20L4 18.59l7.72-7.72 1.47 1.35L5.41 20z\"/>\n",
              "  </svg>\n",
              "      </button>\n",
              "      \n",
              "  <style>\n",
              "    .colab-df-container {\n",
              "      display:flex;\n",
              "      flex-wrap:wrap;\n",
              "      gap: 12px;\n",
              "    }\n",
              "\n",
              "    .colab-df-convert {\n",
              "      background-color: #E8F0FE;\n",
              "      border: none;\n",
              "      border-radius: 50%;\n",
              "      cursor: pointer;\n",
              "      display: none;\n",
              "      fill: #1967D2;\n",
              "      height: 32px;\n",
              "      padding: 0 0 0 0;\n",
              "      width: 32px;\n",
              "    }\n",
              "\n",
              "    .colab-df-convert:hover {\n",
              "      background-color: #E2EBFA;\n",
              "      box-shadow: 0px 1px 2px rgba(60, 64, 67, 0.3), 0px 1px 3px 1px rgba(60, 64, 67, 0.15);\n",
              "      fill: #174EA6;\n",
              "    }\n",
              "\n",
              "    [theme=dark] .colab-df-convert {\n",
              "      background-color: #3B4455;\n",
              "      fill: #D2E3FC;\n",
              "    }\n",
              "\n",
              "    [theme=dark] .colab-df-convert:hover {\n",
              "      background-color: #434B5C;\n",
              "      box-shadow: 0px 1px 3px 1px rgba(0, 0, 0, 0.15);\n",
              "      filter: drop-shadow(0px 1px 2px rgba(0, 0, 0, 0.3));\n",
              "      fill: #FFFFFF;\n",
              "    }\n",
              "  </style>\n",
              "\n",
              "      <script>\n",
              "        const buttonEl =\n",
              "          document.querySelector('#df-e53398d1-dfbf-41cc-80b5-4517bba165b1 button.colab-df-convert');\n",
              "        buttonEl.style.display =\n",
              "          google.colab.kernel.accessAllowed ? 'block' : 'none';\n",
              "\n",
              "        async function convertToInteractive(key) {\n",
              "          const element = document.querySelector('#df-e53398d1-dfbf-41cc-80b5-4517bba165b1');\n",
              "          const dataTable =\n",
              "            await google.colab.kernel.invokeFunction('convertToInteractive',\n",
              "                                                     [key], {});\n",
              "          if (!dataTable) return;\n",
              "\n",
              "          const docLinkHtml = 'Like what you see? Visit the ' +\n",
              "            '<a target=\"_blank\" href=https://colab.research.google.com/notebooks/data_table.ipynb>data table notebook</a>'\n",
              "            + ' to learn more about interactive tables.';\n",
              "          element.innerHTML = '';\n",
              "          dataTable['output_type'] = 'display_data';\n",
              "          await google.colab.output.renderOutput(dataTable, element);\n",
              "          const docLink = document.createElement('div');\n",
              "          docLink.innerHTML = docLinkHtml;\n",
              "          element.appendChild(docLink);\n",
              "        }\n",
              "      </script>\n",
              "    </div>\n",
              "  </div>\n",
              "  "
            ],
            "text/plain": [
              "       Class       Peptide\n",
              "count   1565          1565\n",
              "unique     2          1558\n",
              "top       -1  VFLRRIRVIVIR\n",
              "freq    1423             2"
            ]
          },
          "metadata": {},
          "execution_count": 5
        }
      ]
    },
    {
      "cell_type": "code",
      "source": [
        "dict_val = {}\n",
        "for i in range(0,len(train_data)):\n",
        "    for j in train_data['Peptide'][i]:\n",
        "        if j not in dict_val:\n",
        "            dict_val[j] = 1\n",
        "        else:\n",
        "            dict_val[j] += 1\n",
        "\n",
        "print(dict_val)"
      ],
      "metadata": {
        "colab": {
          "base_uri": "https://localhost:8080/"
        },
        "id": "LbTBKV9cwoZo",
        "outputId": "9d8df2fc-e437-4508-96ed-909727ee7522"
      },
      "execution_count": 6,
      "outputs": [
        {
          "output_type": "stream",
          "name": "stdout",
          "text": [
            "{'K': 2509, 'A': 3160, 'D': 1880, 'E': 2482, 'L': 3582, 'F': 1505, 'N': 1399, 'G': 2726, 'T': 1905, 'V': 2613, 'H': 896, 'W': 503, 'Y': 1063, 'R': 2322, 'C': 575, 'S': 2312, 'M': 752, 'Q': 1359, 'I': 2337, 'P': 1648, 'X': 4}\n"
          ]
        }
      ]
    },
    {
      "cell_type": "code",
      "source": [
        "l1 = []\n",
        "for i in range(0,len(train_data)):\n",
        "    dict1 = {'K': 0, 'A': 0, 'D': 0, 'E': 0, 'L': 0, 'F': 0, 'N': 0, 'G': 0, 'T': 0, 'V': 0, 'H': 0, 'W': 0, 'Y': 0, 'R': 0, 'C': 0, 'S': 0, 'M': 0, 'Q': 0, 'I': 0, 'P': 0, 'X': 0}\n",
        "    for j in train_data['Peptide'][i]:\n",
        "        if j not in dict1:\n",
        "            dict1[j] = 1\n",
        "        else:\n",
        "            dict1[j] += 1\n",
        "    \n",
        "    del dict1['X']\n",
        "    str1=[]\n",
        "    for k in dict1.values():\n",
        "\n",
        "            str1.append(int(k))\n",
        "    l1.append(np.asarray(str1))"
      ],
      "metadata": {
        "id": "RcjZ9gKk5p2l"
      },
      "execution_count": 7,
      "outputs": []
    },
    {
      "cell_type": "code",
      "source": [
        "train_data['peptide'] = l1\n",
        "train_data.head(10)"
      ],
      "metadata": {
        "colab": {
          "base_uri": "https://localhost:8080/",
          "height": 363
        },
        "id": "Z_4tc6SyCts6",
        "outputId": "e2a2461b-bcfe-419d-c77d-04d5fa02f066"
      },
      "execution_count": 8,
      "outputs": [
        {
          "output_type": "execute_result",
          "data": {
            "text/html": [
              "\n",
              "  <div id=\"df-d7e24845-f439-42b5-89d4-9e7392f7da83\">\n",
              "    <div class=\"colab-df-container\">\n",
              "      <div>\n",
              "<style scoped>\n",
              "    .dataframe tbody tr th:only-of-type {\n",
              "        vertical-align: middle;\n",
              "    }\n",
              "\n",
              "    .dataframe tbody tr th {\n",
              "        vertical-align: top;\n",
              "    }\n",
              "\n",
              "    .dataframe thead th {\n",
              "        text-align: right;\n",
              "    }\n",
              "</style>\n",
              "<table border=\"1\" class=\"dataframe\">\n",
              "  <thead>\n",
              "    <tr style=\"text-align: right;\">\n",
              "      <th></th>\n",
              "      <th>Class</th>\n",
              "      <th>Peptide</th>\n",
              "      <th>peptide</th>\n",
              "    </tr>\n",
              "  </thead>\n",
              "  <tbody>\n",
              "    <tr>\n",
              "      <th>0</th>\n",
              "      <td>-1</td>\n",
              "      <td>KADEELFNKLFFGT</td>\n",
              "      <td>[2, 1, 1, 2, 2, 3, 1, 1, 1, 0, 0, 0, 0, 0, 0, ...</td>\n",
              "    </tr>\n",
              "    <tr>\n",
              "      <th>1</th>\n",
              "      <td>-1</td>\n",
              "      <td>FLVALHLGTAFALLWYFRKRWCALVRGFFASFGGRRNDDAHMM</td>\n",
              "      <td>[1, 6, 2, 0, 6, 6, 1, 4, 1, 2, 2, 2, 1, 5, 1, ...</td>\n",
              "    </tr>\n",
              "    <tr>\n",
              "      <th>2</th>\n",
              "      <td>-1</td>\n",
              "      <td>RDQMRARIADITGVAISRIA</td>\n",
              "      <td>[0, 4, 2, 0, 0, 0, 0, 1, 1, 1, 0, 0, 0, 4, 0, ...</td>\n",
              "    </tr>\n",
              "    <tr>\n",
              "      <th>3</th>\n",
              "      <td>-1</td>\n",
              "      <td>RKRLQLLLL</td>\n",
              "      <td>[1, 0, 0, 0, 5, 0, 0, 0, 0, 0, 0, 0, 0, 2, 0, ...</td>\n",
              "    </tr>\n",
              "    <tr>\n",
              "      <th>4</th>\n",
              "      <td>-1</td>\n",
              "      <td>PGFCVGEASPLKSPGRRELGHGNLA</td>\n",
              "      <td>[1, 2, 0, 2, 3, 1, 1, 5, 0, 1, 1, 0, 0, 2, 1, ...</td>\n",
              "    </tr>\n",
              "    <tr>\n",
              "      <th>5</th>\n",
              "      <td>-1</td>\n",
              "      <td>TPEEDTMVMKPLPPEPAP</td>\n",
              "      <td>[1, 1, 1, 3, 1, 0, 0, 0, 2, 1, 0, 0, 0, 0, 0, ...</td>\n",
              "    </tr>\n",
              "    <tr>\n",
              "      <th>6</th>\n",
              "      <td>-1</td>\n",
              "      <td>SKDMRVQR</td>\n",
              "      <td>[1, 0, 1, 0, 0, 0, 0, 0, 0, 1, 0, 0, 0, 2, 0, ...</td>\n",
              "    </tr>\n",
              "    <tr>\n",
              "      <th>7</th>\n",
              "      <td>-1</td>\n",
              "      <td>IAASIRHPLHCT</td>\n",
              "      <td>[0, 2, 0, 0, 1, 0, 0, 0, 1, 0, 2, 0, 0, 1, 1, ...</td>\n",
              "    </tr>\n",
              "    <tr>\n",
              "      <th>8</th>\n",
              "      <td>-1</td>\n",
              "      <td>HPNLNLFAAGHDGGMIVFK</td>\n",
              "      <td>[1, 2, 1, 0, 2, 2, 2, 3, 0, 1, 2, 0, 0, 0, 0, ...</td>\n",
              "    </tr>\n",
              "    <tr>\n",
              "      <th>9</th>\n",
              "      <td>1</td>\n",
              "      <td>ALWKTLLKKVLKAYSPWTNF</td>\n",
              "      <td>[4, 2, 0, 0, 4, 1, 1, 0, 2, 1, 0, 2, 1, 0, 0, ...</td>\n",
              "    </tr>\n",
              "  </tbody>\n",
              "</table>\n",
              "</div>\n",
              "      <button class=\"colab-df-convert\" onclick=\"convertToInteractive('df-d7e24845-f439-42b5-89d4-9e7392f7da83')\"\n",
              "              title=\"Convert this dataframe to an interactive table.\"\n",
              "              style=\"display:none;\">\n",
              "        \n",
              "  <svg xmlns=\"http://www.w3.org/2000/svg\" height=\"24px\"viewBox=\"0 0 24 24\"\n",
              "       width=\"24px\">\n",
              "    <path d=\"M0 0h24v24H0V0z\" fill=\"none\"/>\n",
              "    <path d=\"M18.56 5.44l.94 2.06.94-2.06 2.06-.94-2.06-.94-.94-2.06-.94 2.06-2.06.94zm-11 1L8.5 8.5l.94-2.06 2.06-.94-2.06-.94L8.5 2.5l-.94 2.06-2.06.94zm10 10l.94 2.06.94-2.06 2.06-.94-2.06-.94-.94-2.06-.94 2.06-2.06.94z\"/><path d=\"M17.41 7.96l-1.37-1.37c-.4-.4-.92-.59-1.43-.59-.52 0-1.04.2-1.43.59L10.3 9.45l-7.72 7.72c-.78.78-.78 2.05 0 2.83L4 21.41c.39.39.9.59 1.41.59.51 0 1.02-.2 1.41-.59l7.78-7.78 2.81-2.81c.8-.78.8-2.07 0-2.86zM5.41 20L4 18.59l7.72-7.72 1.47 1.35L5.41 20z\"/>\n",
              "  </svg>\n",
              "      </button>\n",
              "      \n",
              "  <style>\n",
              "    .colab-df-container {\n",
              "      display:flex;\n",
              "      flex-wrap:wrap;\n",
              "      gap: 12px;\n",
              "    }\n",
              "\n",
              "    .colab-df-convert {\n",
              "      background-color: #E8F0FE;\n",
              "      border: none;\n",
              "      border-radius: 50%;\n",
              "      cursor: pointer;\n",
              "      display: none;\n",
              "      fill: #1967D2;\n",
              "      height: 32px;\n",
              "      padding: 0 0 0 0;\n",
              "      width: 32px;\n",
              "    }\n",
              "\n",
              "    .colab-df-convert:hover {\n",
              "      background-color: #E2EBFA;\n",
              "      box-shadow: 0px 1px 2px rgba(60, 64, 67, 0.3), 0px 1px 3px 1px rgba(60, 64, 67, 0.15);\n",
              "      fill: #174EA6;\n",
              "    }\n",
              "\n",
              "    [theme=dark] .colab-df-convert {\n",
              "      background-color: #3B4455;\n",
              "      fill: #D2E3FC;\n",
              "    }\n",
              "\n",
              "    [theme=dark] .colab-df-convert:hover {\n",
              "      background-color: #434B5C;\n",
              "      box-shadow: 0px 1px 3px 1px rgba(0, 0, 0, 0.15);\n",
              "      filter: drop-shadow(0px 1px 2px rgba(0, 0, 0, 0.3));\n",
              "      fill: #FFFFFF;\n",
              "    }\n",
              "  </style>\n",
              "\n",
              "      <script>\n",
              "        const buttonEl =\n",
              "          document.querySelector('#df-d7e24845-f439-42b5-89d4-9e7392f7da83 button.colab-df-convert');\n",
              "        buttonEl.style.display =\n",
              "          google.colab.kernel.accessAllowed ? 'block' : 'none';\n",
              "\n",
              "        async function convertToInteractive(key) {\n",
              "          const element = document.querySelector('#df-d7e24845-f439-42b5-89d4-9e7392f7da83');\n",
              "          const dataTable =\n",
              "            await google.colab.kernel.invokeFunction('convertToInteractive',\n",
              "                                                     [key], {});\n",
              "          if (!dataTable) return;\n",
              "\n",
              "          const docLinkHtml = 'Like what you see? Visit the ' +\n",
              "            '<a target=\"_blank\" href=https://colab.research.google.com/notebooks/data_table.ipynb>data table notebook</a>'\n",
              "            + ' to learn more about interactive tables.';\n",
              "          element.innerHTML = '';\n",
              "          dataTable['output_type'] = 'display_data';\n",
              "          await google.colab.output.renderOutput(dataTable, element);\n",
              "          const docLink = document.createElement('div');\n",
              "          docLink.innerHTML = docLinkHtml;\n",
              "          element.appendChild(docLink);\n",
              "        }\n",
              "      </script>\n",
              "    </div>\n",
              "  </div>\n",
              "  "
            ],
            "text/plain": [
              "  Class  ...                                            peptide\n",
              "0    -1  ...  [2, 1, 1, 2, 2, 3, 1, 1, 1, 0, 0, 0, 0, 0, 0, ...\n",
              "1    -1  ...  [1, 6, 2, 0, 6, 6, 1, 4, 1, 2, 2, 2, 1, 5, 1, ...\n",
              "2    -1  ...  [0, 4, 2, 0, 0, 0, 0, 1, 1, 1, 0, 0, 0, 4, 0, ...\n",
              "3    -1  ...  [1, 0, 0, 0, 5, 0, 0, 0, 0, 0, 0, 0, 0, 2, 0, ...\n",
              "4    -1  ...  [1, 2, 0, 2, 3, 1, 1, 5, 0, 1, 1, 0, 0, 2, 1, ...\n",
              "5    -1  ...  [1, 1, 1, 3, 1, 0, 0, 0, 2, 1, 0, 0, 0, 0, 0, ...\n",
              "6    -1  ...  [1, 0, 1, 0, 0, 0, 0, 0, 0, 1, 0, 0, 0, 2, 0, ...\n",
              "7    -1  ...  [0, 2, 0, 0, 1, 0, 0, 0, 1, 0, 2, 0, 0, 1, 1, ...\n",
              "8    -1  ...  [1, 2, 1, 0, 2, 2, 2, 3, 0, 1, 2, 0, 0, 0, 0, ...\n",
              "9     1  ...  [4, 2, 0, 0, 4, 1, 1, 0, 2, 1, 0, 2, 1, 0, 0, ...\n",
              "\n",
              "[10 rows x 3 columns]"
            ]
          },
          "metadata": {},
          "execution_count": 8
        }
      ]
    },
    {
      "cell_type": "code",
      "source": [
        "train_data.drop(columns = ['Peptide'])"
      ],
      "metadata": {
        "colab": {
          "base_uri": "https://localhost:8080/",
          "height": 423
        },
        "id": "x8GdY8kBEo7f",
        "outputId": "d7a87fe2-d666-4739-aaa9-3d105f508cd4"
      },
      "execution_count": 9,
      "outputs": [
        {
          "output_type": "execute_result",
          "data": {
            "text/html": [
              "\n",
              "  <div id=\"df-3f8b597d-7d1b-4297-92cd-28053d8be26c\">\n",
              "    <div class=\"colab-df-container\">\n",
              "      <div>\n",
              "<style scoped>\n",
              "    .dataframe tbody tr th:only-of-type {\n",
              "        vertical-align: middle;\n",
              "    }\n",
              "\n",
              "    .dataframe tbody tr th {\n",
              "        vertical-align: top;\n",
              "    }\n",
              "\n",
              "    .dataframe thead th {\n",
              "        text-align: right;\n",
              "    }\n",
              "</style>\n",
              "<table border=\"1\" class=\"dataframe\">\n",
              "  <thead>\n",
              "    <tr style=\"text-align: right;\">\n",
              "      <th></th>\n",
              "      <th>Class</th>\n",
              "      <th>peptide</th>\n",
              "    </tr>\n",
              "  </thead>\n",
              "  <tbody>\n",
              "    <tr>\n",
              "      <th>0</th>\n",
              "      <td>-1</td>\n",
              "      <td>[2, 1, 1, 2, 2, 3, 1, 1, 1, 0, 0, 0, 0, 0, 0, ...</td>\n",
              "    </tr>\n",
              "    <tr>\n",
              "      <th>1</th>\n",
              "      <td>-1</td>\n",
              "      <td>[1, 6, 2, 0, 6, 6, 1, 4, 1, 2, 2, 2, 1, 5, 1, ...</td>\n",
              "    </tr>\n",
              "    <tr>\n",
              "      <th>2</th>\n",
              "      <td>-1</td>\n",
              "      <td>[0, 4, 2, 0, 0, 0, 0, 1, 1, 1, 0, 0, 0, 4, 0, ...</td>\n",
              "    </tr>\n",
              "    <tr>\n",
              "      <th>3</th>\n",
              "      <td>-1</td>\n",
              "      <td>[1, 0, 0, 0, 5, 0, 0, 0, 0, 0, 0, 0, 0, 2, 0, ...</td>\n",
              "    </tr>\n",
              "    <tr>\n",
              "      <th>4</th>\n",
              "      <td>-1</td>\n",
              "      <td>[1, 2, 0, 2, 3, 1, 1, 5, 0, 1, 1, 0, 0, 2, 1, ...</td>\n",
              "    </tr>\n",
              "    <tr>\n",
              "      <th>...</th>\n",
              "      <td>...</td>\n",
              "      <td>...</td>\n",
              "    </tr>\n",
              "    <tr>\n",
              "      <th>1560</th>\n",
              "      <td>-1</td>\n",
              "      <td>[0, 1, 1, 1, 0, 0, 0, 2, 1, 0, 0, 0, 1, 0, 0, ...</td>\n",
              "    </tr>\n",
              "    <tr>\n",
              "      <th>1561</th>\n",
              "      <td>1</td>\n",
              "      <td>[1, 0, 0, 0, 0, 4, 0, 3, 0, 0, 2, 3, 0, 4, 0, ...</td>\n",
              "    </tr>\n",
              "    <tr>\n",
              "      <th>1562</th>\n",
              "      <td>1</td>\n",
              "      <td>[2, 1, 0, 0, 1, 0, 0, 0, 0, 1, 0, 1, 0, 2, 0, ...</td>\n",
              "    </tr>\n",
              "    <tr>\n",
              "      <th>1563</th>\n",
              "      <td>-1</td>\n",
              "      <td>[0, 1, 0, 0, 1, 0, 1, 2, 2, 3, 0, 0, 0, 0, 0, ...</td>\n",
              "    </tr>\n",
              "    <tr>\n",
              "      <th>1564</th>\n",
              "      <td>-1</td>\n",
              "      <td>[0, 0, 0, 0, 0, 1, 0, 0, 0, 0, 1, 0, 0, 1, 0, ...</td>\n",
              "    </tr>\n",
              "  </tbody>\n",
              "</table>\n",
              "<p>1565 rows × 2 columns</p>\n",
              "</div>\n",
              "      <button class=\"colab-df-convert\" onclick=\"convertToInteractive('df-3f8b597d-7d1b-4297-92cd-28053d8be26c')\"\n",
              "              title=\"Convert this dataframe to an interactive table.\"\n",
              "              style=\"display:none;\">\n",
              "        \n",
              "  <svg xmlns=\"http://www.w3.org/2000/svg\" height=\"24px\"viewBox=\"0 0 24 24\"\n",
              "       width=\"24px\">\n",
              "    <path d=\"M0 0h24v24H0V0z\" fill=\"none\"/>\n",
              "    <path d=\"M18.56 5.44l.94 2.06.94-2.06 2.06-.94-2.06-.94-.94-2.06-.94 2.06-2.06.94zm-11 1L8.5 8.5l.94-2.06 2.06-.94-2.06-.94L8.5 2.5l-.94 2.06-2.06.94zm10 10l.94 2.06.94-2.06 2.06-.94-2.06-.94-.94-2.06-.94 2.06-2.06.94z\"/><path d=\"M17.41 7.96l-1.37-1.37c-.4-.4-.92-.59-1.43-.59-.52 0-1.04.2-1.43.59L10.3 9.45l-7.72 7.72c-.78.78-.78 2.05 0 2.83L4 21.41c.39.39.9.59 1.41.59.51 0 1.02-.2 1.41-.59l7.78-7.78 2.81-2.81c.8-.78.8-2.07 0-2.86zM5.41 20L4 18.59l7.72-7.72 1.47 1.35L5.41 20z\"/>\n",
              "  </svg>\n",
              "      </button>\n",
              "      \n",
              "  <style>\n",
              "    .colab-df-container {\n",
              "      display:flex;\n",
              "      flex-wrap:wrap;\n",
              "      gap: 12px;\n",
              "    }\n",
              "\n",
              "    .colab-df-convert {\n",
              "      background-color: #E8F0FE;\n",
              "      border: none;\n",
              "      border-radius: 50%;\n",
              "      cursor: pointer;\n",
              "      display: none;\n",
              "      fill: #1967D2;\n",
              "      height: 32px;\n",
              "      padding: 0 0 0 0;\n",
              "      width: 32px;\n",
              "    }\n",
              "\n",
              "    .colab-df-convert:hover {\n",
              "      background-color: #E2EBFA;\n",
              "      box-shadow: 0px 1px 2px rgba(60, 64, 67, 0.3), 0px 1px 3px 1px rgba(60, 64, 67, 0.15);\n",
              "      fill: #174EA6;\n",
              "    }\n",
              "\n",
              "    [theme=dark] .colab-df-convert {\n",
              "      background-color: #3B4455;\n",
              "      fill: #D2E3FC;\n",
              "    }\n",
              "\n",
              "    [theme=dark] .colab-df-convert:hover {\n",
              "      background-color: #434B5C;\n",
              "      box-shadow: 0px 1px 3px 1px rgba(0, 0, 0, 0.15);\n",
              "      filter: drop-shadow(0px 1px 2px rgba(0, 0, 0, 0.3));\n",
              "      fill: #FFFFFF;\n",
              "    }\n",
              "  </style>\n",
              "\n",
              "      <script>\n",
              "        const buttonEl =\n",
              "          document.querySelector('#df-3f8b597d-7d1b-4297-92cd-28053d8be26c button.colab-df-convert');\n",
              "        buttonEl.style.display =\n",
              "          google.colab.kernel.accessAllowed ? 'block' : 'none';\n",
              "\n",
              "        async function convertToInteractive(key) {\n",
              "          const element = document.querySelector('#df-3f8b597d-7d1b-4297-92cd-28053d8be26c');\n",
              "          const dataTable =\n",
              "            await google.colab.kernel.invokeFunction('convertToInteractive',\n",
              "                                                     [key], {});\n",
              "          if (!dataTable) return;\n",
              "\n",
              "          const docLinkHtml = 'Like what you see? Visit the ' +\n",
              "            '<a target=\"_blank\" href=https://colab.research.google.com/notebooks/data_table.ipynb>data table notebook</a>'\n",
              "            + ' to learn more about interactive tables.';\n",
              "          element.innerHTML = '';\n",
              "          dataTable['output_type'] = 'display_data';\n",
              "          await google.colab.output.renderOutput(dataTable, element);\n",
              "          const docLink = document.createElement('div');\n",
              "          docLink.innerHTML = docLinkHtml;\n",
              "          element.appendChild(docLink);\n",
              "        }\n",
              "      </script>\n",
              "    </div>\n",
              "  </div>\n",
              "  "
            ],
            "text/plain": [
              "     Class                                            peptide\n",
              "0       -1  [2, 1, 1, 2, 2, 3, 1, 1, 1, 0, 0, 0, 0, 0, 0, ...\n",
              "1       -1  [1, 6, 2, 0, 6, 6, 1, 4, 1, 2, 2, 2, 1, 5, 1, ...\n",
              "2       -1  [0, 4, 2, 0, 0, 0, 0, 1, 1, 1, 0, 0, 0, 4, 0, ...\n",
              "3       -1  [1, 0, 0, 0, 5, 0, 0, 0, 0, 0, 0, 0, 0, 2, 0, ...\n",
              "4       -1  [1, 2, 0, 2, 3, 1, 1, 5, 0, 1, 1, 0, 0, 2, 1, ...\n",
              "...    ...                                                ...\n",
              "1560    -1  [0, 1, 1, 1, 0, 0, 0, 2, 1, 0, 0, 0, 1, 0, 0, ...\n",
              "1561     1  [1, 0, 0, 0, 0, 4, 0, 3, 0, 0, 2, 3, 0, 4, 0, ...\n",
              "1562     1  [2, 1, 0, 0, 1, 0, 0, 0, 0, 1, 0, 1, 0, 2, 0, ...\n",
              "1563    -1  [0, 1, 0, 0, 1, 0, 1, 2, 2, 3, 0, 0, 0, 0, 0, ...\n",
              "1564    -1  [0, 0, 0, 0, 0, 1, 0, 0, 0, 0, 1, 0, 0, 1, 0, ...\n",
              "\n",
              "[1565 rows x 2 columns]"
            ]
          },
          "metadata": {},
          "execution_count": 9
        }
      ]
    },
    {
      "cell_type": "markdown",
      "source": [
        "Structure of Networkk modified here"
      ],
      "metadata": {
        "id": "dLJ2VBVf2KCZ"
      }
    },
    {
      "cell_type": "code",
      "source": [
        "def Sigmoid(Z):\n",
        "    return 1/(1+np.exp(-Z))\n",
        "\n",
        "def Relu(Z):\n",
        "    return np.maximum(0,Z)\n",
        "\n",
        "def dRelu2(dZ, Z):    \n",
        "    dZ[Z <= 0] = 0    \n",
        "    return dZ\n",
        "\n",
        "def dRelu(x):\n",
        "    x[x<=0] = 0\n",
        "    x[x>0] = 1\n",
        "    return x\n",
        "\n",
        "def dSigmoid(Z):\n",
        "    s = 1/(1+np.exp(-Z))\n",
        "    dZ = s * (1-s)\n",
        "    return dZ\n",
        "\n",
        "class dlnet:\n",
        "    def __init__(self, x, y):\n",
        "        self.debug = 0;\n",
        "        self.X=x\n",
        "        self.Y=y\n",
        "        self.Yh=np.zeros((1,self.Y.shape[1])) \n",
        "        self.L=2\n",
        "        self.dims = [9, 15, 1] \n",
        "        self.param = {}\n",
        "        self.ch = {}\n",
        "        self.grad = {}\n",
        "        self.loss = []\n",
        "        self.lr=0.003\n",
        "        self.sam = self.Y.shape[1]\n",
        "        self.threshold=0.5\n",
        "        \n",
        "    def nInit(self):    \n",
        "        np.random.seed(1)\n",
        "        self.param['W1'] = np.random.randn(self.dims[1], self.dims[0]) / np.sqrt(self.dims[0]) \n",
        "        self.param['b1'] = np.zeros((self.dims[1], 1))        \n",
        "        self.param['W2'] = np.random.randn(self.dims[2], self.dims[1]) / np.sqrt(self.dims[1]) \n",
        "        self.param['b2'] = np.zeros((self.dims[2], 1))                \n",
        "        return \n",
        "\n",
        "    def forward(self):    \n",
        "        Z1 = self.param['W1'].dot(self.X) + self.param['b1'] \n",
        "        A1 = Relu(Z1)\n",
        "        self.ch['Z1'],self.ch['A1']=Z1,A1\n",
        "        \n",
        "        Z2 = self.param['W2'].dot(A1) + self.param['b2']  \n",
        "        A2 = Sigmoid(Z2)\n",
        "        self.ch['Z2'],self.ch['A2']=Z2,A2\n",
        "\n",
        "        self.Yh=A2\n",
        "        loss=self.nloss(A2)\n",
        "        return self.Yh, np.mean(loss)\n",
        "\n",
        "    def nloss(self,Yh):\n",
        "        loss = (1./self.sam) * (-np.dot(self.Y,np.log(Yh).T) - np.dot(1-self.Y, np.log(1-Yh).T))    \n",
        "        return loss\n",
        "\n",
        "    def backward(self):\n",
        "        dLoss_Yh = - (np.divide(self.Y, self.Yh ) - np.divide(1 - self.Y, 1 - self.Yh))    \n",
        "        \n",
        "        dLoss_Z2 = dLoss_Yh * dSigmoid(self.ch['Z2'])    \n",
        "        dLoss_A1 = np.dot(self.param[\"W2\"].T,dLoss_Z2)\n",
        "        dLoss_W2 = 1./self.ch['A1'].shape[1] * np.dot(dLoss_Z2,self.ch['A1'].T)\n",
        "        dLoss_b2 = 1./self.ch['A1'].shape[1] * np.dot(dLoss_Z2, np.ones([dLoss_Z2.shape[1],1])) \n",
        "                            \n",
        "        dLoss_Z1 = dLoss_A1 * dRelu(self.ch['Z1'])        \n",
        "        dLoss_A0 = np.dot(self.param[\"W1\"].T,dLoss_Z1)\n",
        "        dLoss_W1 = 1./self.X.shape[1] * np.dot(dLoss_Z1,self.X.T)\n",
        "        dLoss_b1 = 1./self.X.shape[1] * np.dot(dLoss_Z1, np.ones([dLoss_Z1.shape[1],1]))  \n",
        "        \n",
        "        self.param[\"W1\"] = self.param[\"W1\"] - self.lr * dLoss_W1\n",
        "        self.param[\"b1\"] = self.param[\"b1\"] - self.lr * dLoss_b1\n",
        "        self.param[\"W2\"] = self.param[\"W2\"] - self.lr * dLoss_W2\n",
        "        self.param[\"b2\"] = self.param[\"b2\"] - self.lr * dLoss_b2\n",
        "        \n",
        "        return\n",
        "\n",
        "\n",
        "    def pred(self,x, y):  \n",
        "        self.X=x\n",
        "        self.Y=y\n",
        "        comp = np.zeros((1,x.shape[1]))\n",
        "        pred, loss= self.forward()    \n",
        "    \n",
        "        for i in range(0, pred.shape[1]):\n",
        "            if pred[0,i] > self.threshold: comp[0,i] = 1\n",
        "            else: comp[0,i] = 0\n",
        "    \n",
        "        print(\"Acc: \" + str(np.sum((comp == y)/x.shape[1])))\n",
        "        \n",
        "        return comp\n",
        "    \n",
        "    def gd(self,X, Y, iter = 3000):\n",
        "        np.random.seed(1)                         \n",
        "    \n",
        "        self.nInit()\n",
        "    \n",
        "        for i in range(0, iter):\n",
        "            Yh, loss=self.forward()\n",
        "            self.backward()\n",
        "            if i % 500 == 0:\n",
        "                \n",
        "                print(f\"Cost after iteration {i} : {loss}\" )\n",
        "                self.loss.append(loss)\n",
        "\n",
        "        plt.plot(np.squeeze(self.loss))\n",
        "        plt.ylabel('Loss')\n",
        "        plt.xlabel('Iter')\n",
        "        plt.title(\"Lr =\" + str(self.lr))\n",
        "        plt.show()\n",
        "    \n",
        "        return "
      ],
      "metadata": {
        "id": "Sn2NmM_dD5sV"
      },
      "execution_count": 10,
      "outputs": []
    },
    {
      "cell_type": "code",
      "execution_count": 11,
      "metadata": {
        "id": "pPpvjBT8_gJV"
      },
      "outputs": [],
      "source": [
        "x_train = l1[0:1200]\n",
        "x_val = l1[1201:1564]\n",
        "y_train = train_data.iloc[0:1200,0].values\n",
        "y_val = train_data.iloc[1201:1564,0].values\n",
        "\n",
        "x_train = np.asarray(x_train).T\n",
        "x_val = np.asarray(x_val).T\n",
        "\n",
        "y_train = y_train.astype(int)\n",
        "y_val = y_val.astype(int)\n",
        "y_train = np.where(y_train<0, 0, y_train)\n",
        "y_val = np.where(y_val<0, 0, y_val)\n",
        "\n",
        "y_train = np.reshape(y_train,(1,-1))\n",
        "y_train = np.reshape(y_train,(1,-1))\n"
      ]
    },
    {
      "cell_type": "code",
      "source": [
        "nn = dlnet(x_train,y_train)\n",
        "nn.lr = 0.07\n",
        "nn.dims = [20, 15, 2] "
      ],
      "metadata": {
        "id": "LcS010D9N4qi"
      },
      "execution_count": 12,
      "outputs": []
    },
    {
      "cell_type": "code",
      "source": [
        "nn.gd(x_train, y_train, iter = 50000)"
      ],
      "metadata": {
        "colab": {
          "base_uri": "https://localhost:8080/",
          "height": 1000
        },
        "id": "mvrBfelz3lsQ",
        "outputId": "12fbd655-1a2f-44e0-f7fa-98fa29071e67"
      },
      "execution_count": 34,
      "outputs": [
        {
          "output_type": "stream",
          "name": "stdout",
          "text": [
            "Cost after iteration 0 : 0.16637005348306655\n",
            "Cost after iteration 500 : 0.008216166121369507\n",
            "Cost after iteration 1000 : 0.00407342452407131\n",
            "Cost after iteration 1500 : 0.0025315532537518665\n",
            "Cost after iteration 2000 : 0.0017404978252937061\n",
            "Cost after iteration 2500 : 0.0012749876309419302\n",
            "Cost after iteration 3000 : 0.0009868701806674486\n",
            "Cost after iteration 3500 : 0.0007932098079411183\n",
            "Cost after iteration 4000 : 0.0006548419356405107\n",
            "Cost after iteration 4500 : 0.0005527044128989774\n",
            "Cost after iteration 5000 : 0.00047528797879182604\n",
            "Cost after iteration 5500 : 0.0004150885159671517\n",
            "Cost after iteration 6000 : 0.0003670497619733938\n",
            "Cost after iteration 6500 : 0.00032804252206885523\n",
            "Cost after iteration 7000 : 0.000295784103941601\n",
            "Cost after iteration 7500 : 0.0002687503018983736\n",
            "Cost after iteration 8000 : 0.0002458079528995557\n",
            "Cost after iteration 8500 : 0.0002261271622088997\n",
            "Cost after iteration 9000 : 0.00020906034873655158\n",
            "Cost after iteration 9500 : 0.00019415786997200015\n",
            "Cost after iteration 10000 : 0.00018106121794306246\n",
            "Cost after iteration 10500 : 0.00016946534086186504\n",
            "Cost after iteration 11000 : 0.00015914055073899325\n",
            "Cost after iteration 11500 : 0.00014989649190498127\n",
            "Cost after iteration 12000 : 0.00014159570438164533\n",
            "Cost after iteration 12500 : 0.0001340848874122236\n",
            "Cost after iteration 13000 : 0.00012727203649380814\n",
            "Cost after iteration 13500 : 0.00012106056649332459\n",
            "Cost after iteration 14000 : 0.00011538287326691213\n",
            "Cost after iteration 14500 : 0.00011017143299988806\n",
            "Cost after iteration 15000 : 0.00010537376515514112\n",
            "Cost after iteration 15500 : 0.00010094327798720396\n",
            "Cost after iteration 16000 : 9.684068779879539e-05\n",
            "Cost after iteration 16500 : 9.303302248442051e-05\n",
            "Cost after iteration 17000 : 8.949223545955804e-05\n",
            "Cost after iteration 17500 : 8.618982059342147e-05\n",
            "Cost after iteration 18000 : 8.29085733301621e-05\n",
            "Cost after iteration 18500 : 7.980155109433339e-05\n",
            "Cost after iteration 19000 : 7.692133010832122e-05\n",
            "Cost after iteration 19500 : 7.423672336590388e-05\n",
            "Cost after iteration 20000 : 7.172965808017865e-05\n",
            "Cost after iteration 20500 : 6.937988994903786e-05\n",
            "Cost after iteration 21000 : 6.717259118259937e-05\n",
            "Cost after iteration 21500 : 6.509456846257989e-05\n",
            "Cost after iteration 22000 : 6.313459831280744e-05\n",
            "Cost after iteration 22500 : 6.128147800074729e-05\n",
            "Cost after iteration 23000 : 5.9528994051994896e-05\n",
            "Cost after iteration 23500 : 5.786730326435081e-05\n",
            "Cost after iteration 24000 : 5.629036664897669e-05\n",
            "Cost after iteration 24500 : 5.479155040877799e-05\n",
            "Cost after iteration 25000 : 5.336572021463051e-05\n",
            "Cost after iteration 25500 : 5.20079715344288e-05\n",
            "Cost after iteration 26000 : 5.0712202229898787e-05\n",
            "Cost after iteration 26500 : 4.947573077698624e-05\n",
            "Cost after iteration 27000 : 4.8293822284488926e-05\n",
            "Cost after iteration 27500 : 4.716395178132245e-05\n",
            "Cost after iteration 28000 : 4.6081488252680604e-05\n",
            "Cost after iteration 28500 : 4.5046057913286134e-05\n",
            "Cost after iteration 29000 : 4.405217428463273e-05\n",
            "Cost after iteration 29500 : 4.309828010802911e-05\n",
            "Cost after iteration 30000 : 4.218285014587376e-05\n",
            "Cost after iteration 30500 : 4.1301941711084766e-05\n",
            "Cost after iteration 31000 : 4.045522484186173e-05\n",
            "Cost after iteration 31500 : 3.963989132656193e-05\n",
            "Cost after iteration 32000 : 3.885469471620511e-05\n",
            "Cost after iteration 32500 : 3.809807438076798e-05\n",
            "Cost after iteration 33000 : 3.736776931215643e-05\n",
            "Cost after iteration 33500 : 3.6663437744272773e-05\n",
            "Cost after iteration 34000 : 3.59837589004821e-05\n",
            "Cost after iteration 34500 : 3.532708390339653e-05\n",
            "Cost after iteration 35000 : 3.469809495743552e-05\n",
            "Cost after iteration 35500 : 3.4090726188931586e-05\n",
            "Cost after iteration 36000 : 3.350317222053633e-05\n",
            "Cost after iteration 36500 : 3.29342729705681e-05\n",
            "Cost after iteration 37000 : 3.23833941458805e-05\n",
            "Cost after iteration 37500 : 3.184944551649258e-05\n",
            "Cost after iteration 38000 : 3.1331871679865084e-05\n",
            "Cost after iteration 38500 : 3.082967298361946e-05\n",
            "Cost after iteration 39000 : 3.034257837988543e-05\n",
            "Cost after iteration 39500 : 2.986946378665222e-05\n",
            "Cost after iteration 40000 : 2.9409990123219588e-05\n",
            "Cost after iteration 40500 : 2.8963581490694273e-05\n",
            "Cost after iteration 41000 : 2.852955923920205e-05\n",
            "Cost after iteration 41500 : 2.810785476015781e-05\n",
            "Cost after iteration 42000 : 2.7697323532073523e-05\n",
            "Cost after iteration 42500 : 2.7297740396472274e-05\n",
            "Cost after iteration 43000 : 2.690880914328238e-05\n",
            "Cost after iteration 43500 : 2.653008758168771e-05\n",
            "Cost after iteration 44000 : 2.6161378856972997e-05\n",
            "Cost after iteration 44500 : 2.5801801941278997e-05\n",
            "Cost after iteration 45000 : 2.545168198363185e-05\n",
            "Cost after iteration 45500 : 2.5110050221339208e-05\n",
            "Cost after iteration 46000 : 2.4776948436736406e-05\n",
            "Cost after iteration 46500 : 2.4451886413978026e-05\n",
            "Cost after iteration 47000 : 2.41347428924455e-05\n",
            "Cost after iteration 47500 : 2.3825165259735106e-05\n",
            "Cost after iteration 48000 : 2.3522917417688776e-05\n",
            "Cost after iteration 48500 : 2.3227815789503516e-05\n",
            "Cost after iteration 49000 : 2.293936016269815e-05\n",
            "Cost after iteration 49500 : 2.2657692764756398e-05\n"
          ]
        },
        {
          "output_type": "display_data",
          "data": {
            "image/png": "[encoded data removed]",
            "text/plain": [
              "<Figure size 432x288 with 1 Axes>"
            ]
          },
          "metadata": {
            "needs_background": "light"
          }
        }
      ]
    },
    {
      "cell_type": "code",
      "source": [
        "pred_train = nn.pred(x_train, y_train)\n",
        "pred_test = nn.pred(x_val, y_val)"
      ],
      "metadata": {
        "colab": {
          "base_uri": "https://localhost:8080/"
        },
        "id": "II9n4X21RA5L",
        "outputId": "06bba24e-f717-4ac3-e9bb-96500dd2850d"
      },
      "execution_count": 35,
      "outputs": [
        {
          "output_type": "stream",
          "name": "stdout",
          "text": [
            "Acc: 0.9591666666666667\n",
            "Acc: 1.0\n"
          ]
        },
        {
          "output_type": "stream",
          "name": "stderr",
          "text": [
            "/usr/local/lib/python3.7/dist-packages/ipykernel_launcher.py:59: RuntimeWarning: divide by zero encountered in log\n"
          ]
        }
      ]
    },
    {
      "cell_type": "code",
      "source": [
        "def plotCf(a,b,t):\n",
        "    cf =confusion_matrix(a,b)\n",
        "    plt.imshow(cf,cmap=plt.cm.Blues,interpolation='nearest')\n",
        "    plt.colorbar()\n",
        "    plt.title(t)\n",
        "    plt.xlabel('Predicted')\n",
        "    plt.ylabel('Actual')\n",
        "    tick_marks = np.arange(len(set(a))) # length of classes\n",
        "    class_labels = ['0','1']\n",
        "    plt.xticks(tick_marks,class_labels)\n",
        "    plt.yticks(tick_marks,class_labels)\n",
        "    thresh = cf.max() / 2.\n",
        "    for i,j in itertools.product(range(cf.shape[0]),range(cf.shape[1])):\n",
        "        plt.text(j,i,format(cf[i,j],'d'),horizontalalignment='center',color='white' if cf[i,j] >thresh else 'black')\n",
        "    plt.show();"
      ],
      "metadata": {
        "id": "LVnZE7jGqe42"
      },
      "execution_count": 36,
      "outputs": []
    },
    {
      "cell_type": "code",
      "source": [
        "nn.threshold=0.5\n",
        "\n",
        "nn.X,nn.Y = x_train, y_train \n",
        "target=np.around(np.squeeze(y_train), decimals=0).astype(np.int)\n",
        "predicted=np.around(np.squeeze(nn.pred(x_train,y_train)), decimals=0).astype(np.int)\n",
        "plotCf(target,predicted,'Cf Training Set')\n",
        "\n",
        "nn.X,nn.Y=x_val, y_val \n",
        "target=np.around(np.squeeze(y_val), decimals=0).astype(np.int)\n",
        "predicted=np.around(np.squeeze(nn.pred(x_val,y_val)), decimals=0).astype(np.int)\n",
        "plotCf(target,predicted,'Cf Validation Set')"
      ],
      "metadata": {
        "colab": {
          "base_uri": "https://localhost:8080/",
          "height": 628
        },
        "id": "WouBP8vDpXvH",
        "outputId": "1437311a-dbbd-403a-8ece-f530733ae016"
      },
      "execution_count": 37,
      "outputs": [
        {
          "output_type": "stream",
          "name": "stdout",
          "text": [
            "Acc: 0.9550000000000001\n"
          ]
        },
        {
          "output_type": "stream",
          "name": "stderr",
          "text": [
            "/usr/local/lib/python3.7/dist-packages/ipykernel_launcher.py:59: RuntimeWarning: divide by zero encountered in log\n"
          ]
        },
        {
          "output_type": "display_data",
          "data": {
            "image/png": "[encoded data removed]",
            "text/plain": [
              "<Figure size 432x288 with 2 Axes>"
            ]
          },
          "metadata": {
            "needs_background": "light"
          }
        },
        {
          "output_type": "stream",
          "name": "stdout",
          "text": [
            "Acc: 1.0\n"
          ]
        },
        {
          "output_type": "display_data",
          "data": {
            "image/png": "[encoded data removed]",
            "text/plain": [
              "<Figure size 432x288 with 2 Axes>"
            ]
          },
          "metadata": {
            "needs_background": "light"
          }
        }
      ]
    },
    {
      "cell_type": "code",
      "source": [
        "nn.threshold=0.7\n",
        "\n",
        "nn.X,nn.Y = x_train, y_train \n",
        "target=np.around(np.squeeze(y_train), decimals=0).astype(np.int)\n",
        "predicted=np.around(np.squeeze(nn.pred(x_train,y_train)), decimals=0).astype(np.int)\n",
        "plotCf(target,predicted,'Cf Training Set')\n",
        "\n",
        "nn.X,nn.Y=x_val, y_val \n",
        "target=np.around(np.squeeze(y_val), decimals=0).astype(np.int)\n",
        "predicted=np.around(np.squeeze(nn.pred(x_val,y_val)), decimals=0).astype(np.int)\n",
        "plotCf(target,predicted,'Cf Validation Set')"
      ],
      "metadata": {
        "colab": {
          "base_uri": "https://localhost:8080/",
          "height": 628
        },
        "id": "D9YS6igppZId",
        "outputId": "0b1ab27a-c84f-4fb7-d991-e4e23c42a0bd"
      },
      "execution_count": 38,
      "outputs": [
        {
          "output_type": "stream",
          "name": "stdout",
          "text": [
            "Acc: 0.9558333333333333\n"
          ]
        },
        {
          "output_type": "stream",
          "name": "stderr",
          "text": [
            "/usr/local/lib/python3.7/dist-packages/ipykernel_launcher.py:59: RuntimeWarning: divide by zero encountered in log\n"
          ]
        },
        {
          "output_type": "display_data",
          "data": {
            "image/png": "[encoded data removed]",
            "text/plain": [
              "<Figure size 432x288 with 2 Axes>"
            ]
          },
          "metadata": {
            "needs_background": "light"
          }
        },
        {
          "output_type": "stream",
          "name": "stdout",
          "text": [
            "Acc: 1.0\n"
          ]
        },
        {
          "output_type": "display_data",
          "data": {
            "image/png": "[encoded data removed]",
            "text/plain": [
              "<Figure size 432x288 with 2 Axes>"
            ]
          },
          "metadata": {
            "needs_background": "light"
          }
        }
      ]
    },
    {
      "cell_type": "code",
      "source": [
        "nn.threshold=0.9\n",
        "\n",
        "nn.X,nn.Y = x_train, y_train \n",
        "target=np.around(np.squeeze(y_train), decimals=0).astype(np.int)\n",
        "predicted=np.around(np.squeeze(nn.pred(x_train,y_train)), decimals=0).astype(np.int)\n",
        "plotCf(target,predicted,'Cf Training Set')\n",
        "\n",
        "nn.X,nn.Y=x_val, y_val \n",
        "target=np.around(np.squeeze(y_val), decimals=0).astype(np.int)\n",
        "predicted=np.around(np.squeeze(nn.pred(x_val,y_val)), decimals=0).astype(np.int)\n",
        "plotCf(target,predicted,'Cf Validation Set')"
      ],
      "metadata": {
        "colab": {
          "base_uri": "https://localhost:8080/",
          "height": 628
        },
        "id": "Czj8AFyhpb40",
        "outputId": "edda70a3-6d50-45e4-d819-f4783c03b529"
      },
      "execution_count": 39,
      "outputs": [
        {
          "output_type": "stream",
          "name": "stdout",
          "text": [
            "Acc: 0.9591666666666667\n"
          ]
        },
        {
          "output_type": "stream",
          "name": "stderr",
          "text": [
            "/usr/local/lib/python3.7/dist-packages/ipykernel_launcher.py:59: RuntimeWarning: divide by zero encountered in log\n"
          ]
        },
        {
          "output_type": "display_data",
          "data": {
            "image/png": "[encoded data removed]",
            "text/plain": [
              "<Figure size 432x288 with 2 Axes>"
            ]
          },
          "metadata": {
            "needs_background": "light"
          }
        },
        {
          "output_type": "stream",
          "name": "stdout",
          "text": [
            "Acc: 1.0\n"
          ]
        },
        {
          "output_type": "display_data",
          "data": {
            "image/png": "[encoded data removed]",
            "text/plain": [
              "<Figure size 432x288 with 2 Axes>"
            ]
          },
          "metadata": {
            "needs_background": "light"
          }
        }
      ]
    },
    {
      "cell_type": "code",
      "source": [
        "nn.X,nn.Y= x_val, y_val \n",
        "yvalh, loss = nn.forward()\n",
        "print(\"\\ny\",np.around(y_val[0:100], decimals=0).astype(np.int))       \n",
        "print(\"\\nyh\",np.around(yvalh[0,0:100,], decimals=0).astype(np.int),\"\\n\") "
      ],
      "metadata": {
        "colab": {
          "base_uri": "https://localhost:8080/"
        },
        "id": "3sT_6taxpe0w",
        "outputId": "ad1c38e7-5fdc-4179-b279-e820a948bca3"
      },
      "execution_count": 41,
      "outputs": [
        {
          "output_type": "stream",
          "name": "stdout",
          "text": [
            "\n",
            "y [0 0 0 0 0 0 0 0 0 1 0 0 0 1 1 0 0 0 1 0 0 0 0 0 0 0 0 0 0 1 1 1 0 1 0 0 0\n",
            " 0 0 0 0 0 0 1 0 0 0 0 0 0 0 0 0 0 0 0 0 0 1 0 0 0 0 0 0 0 0 0 0 0 0 0 0 0\n",
            " 0 0 0 0 0 0 1 0 0 0 0 0 0 0 0 0 0 0 0 0 0 0 0 0 0 0]\n",
            "\n",
            "yh [0 0 0 0 0 0 0 0 0 1 0 0 0 1 1 0 0 0 1 0 0 0 0 0 0 0 0 0 0 1 1 1 0 1 0 0 0\n",
            " 0 0 0 0 0 0 1 0 0 0 0 0 0 0 0 0 0 0 0 0 0 1 0 0 0 0 0 0 0 0 0 0 0 0 0 0 0\n",
            " 0 0 0 0 0 0 1 0 0 0 0 0 0 0 0 0 0 0 0 0 0 0 0 0 0 0] \n",
            "\n"
          ]
        }
      ]
    },
    {
      "cell_type": "code",
      "source": [
        ""
      ],
      "metadata": {
        "id": "3VBM8jYmy3vu"
      },
      "execution_count": null,
      "outputs": []
    }
  ]
}